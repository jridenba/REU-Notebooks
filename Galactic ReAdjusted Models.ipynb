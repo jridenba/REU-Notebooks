{
 "cells": [
  {
   "cell_type": "markdown",
   "metadata": {},
   "source": [
    "## Recreate our Galactic Models FITS, this time as one FITS file (aka model)"
   ]
  },
  {
   "cell_type": "markdown",
   "metadata": {},
   "source": [
    "Going to do all of this a second time but using the raw data * wavelength^2 in order to get accurate Fnu shape\n"
   ]
  },
  {
   "cell_type": "code",
   "execution_count": 1,
   "metadata": {},
   "outputs": [],
   "source": [
    "import urllib.request\n",
    "import pandas as pd\n",
    "import numpy as np\n",
    "import matplotlib.pyplot as plt\n",
    "import os\n",
    "import astropy.constants as const\n",
    "import astropy.units as u\n",
    "import io "
   ]
  },
  {
   "cell_type": "code",
   "execution_count": 2,
   "metadata": {},
   "outputs": [],
   "source": [
    "files = []\n",
    "for file in os.listdir('../data/galaxySEDs/'):\n",
    "    if file.endswith('.norm_1p6'):\n",
    "        files.append(file)"
   ]
  },
  {
   "cell_type": "markdown",
   "metadata": {},
   "source": [
    "## Create FITS"
   ]
  },
  {
   "cell_type": "code",
   "execution_count": 3,
   "metadata": {},
   "outputs": [],
   "source": [
    "from astropy.io import fits\n",
    "from astropy import table\n",
    "from astropy import units as u\n",
    "from astropy import constants as const"
   ]
  },
  {
   "cell_type": "code",
   "execution_count": 6,
   "metadata": {},
   "outputs": [],
   "source": [
    "tab = [] # Tab is a list of dataframes that contain the SEDs for each template\n",
    "for file in files:\n",
    "    tab.append(pd.read_csv('../data/galaxySEDs/'+file,header = None, delim_whitespace=True))\n",
    "modnames = [file.split('.')[0] for file in files]\n",
    "a1 = np.ones(len(tab)) # Validity array\n",
    "primhead = fits.Header([fits.Card('DISTANCE',3E+21,'Distance in cm'),\n",
    "                    fits.Card('NWAV',len(tab[0][0]),'Number of wavelengths')])\n",
    "primhdu = fits.PrimaryHDU(a1,primhead)\n",
    "\n",
    "col1 = fits.Column(name='MODEL_NAME', format='20A', array=modnames) #Column objects package the arrays with the typical fits info: name and format\n",
    "cols = fits.ColDefs([col1]) #ColDefs object packages the column objects\n",
    "namehdu = fits.BinTableHDU.from_columns(cols,name = 'MODEL_NAMES') #Creates the bintablehdu object to be made to FITS_rec\n",
    "\n",
    "wavlist = (tab[0][0]/10**4).values\n",
    "freqlist = const.c.value / wavlist\n",
    "speccol1 = fits.Column(name='WAVELENGTH',format = 'D', unit = 'um', array=wavlist)\n",
    "speccol2 = fits.Column(name='FREQUENCY', format = 'D', unit = 'Hz', array=freqlist)\n",
    "speccols = fits.ColDefs([speccol1,speccol2])\n",
    "spechdu = fits.BinTableHDU.from_columns(speccols,name = 'SPECTRAL_INFO')\n",
    "\n",
    "# Not sure if apertures matter or should be the same as for YSOs? I'm thinking that we have 0 apertures because we only have data\n",
    "# for one model, not across apertures or 10000 models.\n",
    "#aplist = np.logspace(2,6,20)\n",
    "#apcol1 = fits.Column(name='APERTURE', format = 'D', unit = 'AU', array=aplist)\n",
    "#apcols = fits.ColDefs([apcol1])\n",
    "#aphdu = fits.BinTableHDU.from_columns(apcols,name = 'APERTURES')\n",
    "\n",
    "# Giving synthetic unit here: mJy, despite not being in mJy, normalized at 1.6 um, index 6396\n",
    "valdata = np.array([(tab[i][1]*(wavlist**2)) / tab[i][1][6396] for i in range(len(tab))])\n",
    "valdata = valdata.reshape((32,1,11005))\n",
    "valhdr = fits.Header([fits.Card('BUNIT','mJy','')])\n",
    "valhdu = fits.ImageHDU(data=valdata,name='VALUES',header = valhdr)\n",
    "\n",
    "# Uncertainty in the models?? Don't have any anymore\n",
    "uncdata = np.zeros((32,1,11005))\n",
    "unchdr = fits.Header([fits.Card('BUNIT','mJy','')])\n",
    "unchdu = fits.ImageHDU(data=uncdata,name='UNCERTAINTIES',header = unchdr)\n",
    "\n",
    "hdulist = fits.HDUList([primhdu, namehdu, spechdu, valhdu, unchdu])\n",
    "hdulist.writeto('../data/galaxtemps2/flux.fits',overwrite=False)\n",
    "\n",
    "\n",
    "# Create models.conf file #\n",
    "with open('../data/galaxtemps2/models.conf','w') as modcon:\n",
    "    l = ['name = galaxtemps2\\n', 'length_subdir = 2\\n', 'aperture_dependent = no\\n', 'logd_step = 0.02\\n', 'version = 2\\n']\n",
    "    modcon.writelines(l)"
   ]
  },
  {
   "cell_type": "markdown",
   "metadata": {},
   "source": [
    "## Create parameters.FITS (Only a list of model names for us)"
   ]
  },
  {
   "cell_type": "code",
   "execution_count": 7,
   "metadata": {},
   "outputs": [],
   "source": [
    "for i in range(0,len(files)):\n",
    "   modnames = [file.split('.')[0] for file in files]\n",
    "   parmhead = fits.Header()\n",
    "   parmhdu = fits.PrimaryHDU(parmhead)\n",
    "   parmcol = fits.Column(name='MODEL_NAME', format='20A', array=modnames)\n",
    "   parmcols = fits.ColDefs([parmcol]) \n",
    "   pnamehdu = fits.BinTableHDU.from_columns(parmcols,name = 'MODEL_NAMES')\n",
    "   parmhdulist = fits.HDUList([parmhdu, pnamehdu])\n",
    "   parmhdulist.writeto('../data/galaxtemps2/parameters.fits',overwrite=True)"
   ]
  },
  {
   "cell_type": "code",
   "execution_count": 8,
   "metadata": {},
   "outputs": [
    {
     "name": "stdout",
     "output_type": "stream",
     "text": [
      "Filename: ../data/galaxtemps2/parameters.fits\n",
      "No.    Name      Ver    Type      Cards   Dimensions   Format\n",
      "  0  PRIMARY       1 PrimaryHDU       5   (0,)      \n",
      "  1  MODEL_NAMES    1 BinTableHDU     11   32R x 1C   [20A]   \n",
      "XTENSION= 'BINTABLE'           / binary table extension                         \n",
      "BITPIX  =                    8 / array data type                                \n",
      "NAXIS   =                    2 / number of array dimensions                     \n",
      "NAXIS1  =                   20 / length of dimension 1                          \n",
      "NAXIS2  =                   32 / length of dimension 2                          \n",
      "PCOUNT  =                    0 / number of group parameters                     \n",
      "GCOUNT  =                    1 / number of groups                               \n",
      "TFIELDS =                    1 / number of table fields                         \n",
      "TTYPE1  = 'MODEL_NAME'                                                          \n",
      "TFORM1  = '20A     '                                                            \n",
      "EXTNAME = 'MODEL_NAMES'        / extension name                                 \n",
      "FITS_rec([('WeakPAH_SF_glx_2',), ('SF_Type2_AGN_3',), ('SF_Type2_AGN_2',),\n",
      "          ('SF_glx_1',), ('MIR_powlaw_SF_glx',), ('SF_Type1_AGN_4',),\n",
      "          ('Type1_AGN_1',), ('Torus',), ('SF_Type1_AGN_2',),\n",
      "          ('SF_Type1_AGN_3',), ('Warm_SF_glx',), ('Red_SF_glx_2',),\n",
      "          ('Elliptical',), ('PAH_SF_glx',), ('Cold_glx',),\n",
      "          ('MIRex_SF_glx',), ('Type2_AGN_1',), ('Young_SF_glx',),\n",
      "          ('Si_break',), ('Spiral',), ('Blue_SF_glx',), ('Secular_glx',),\n",
      "          ('WeakPAH_SF_glx_1',), ('SF_Type2_AGN_1',), ('SF_glx_2',),\n",
      "          ('BroadFIR_SF_glx',), ('Type2_AGN_2',), ('Ly_break',),\n",
      "          ('Obs_SF_glx',), ('Red_SF_glx_1',), ('Mod_SF_glx',),\n",
      "          ('SF_Type1_AGN_1',)],\n",
      "         dtype=(numpy.record, [('MODEL_NAME', 'S20')]))\n"
     ]
    }
   ],
   "source": [
    "with fits.open('../data/galaxtemps2/parameters.fits') as testfits:\n",
    "    testfits.info()\n",
    "    #print(repr(testfits[3].header))\n",
    "    #print(repr(testfits[3].data))\n",
    "    print(repr(testfits[1].header))\n",
    "    print(repr(testfits[1].data))"
   ]
  },
  {
   "cell_type": "markdown",
   "metadata": {},
   "source": [
    "## Convolve our new model directory with the 8 filters using our saved responses in data/filterResponses"
   ]
  },
  {
   "cell_type": "code",
   "execution_count": 9,
   "metadata": {},
   "outputs": [],
   "source": [
    "from sedfitter.filter import Filter\n",
    "from sedfitter.convolve import convolve_model_dir"
   ]
  },
  {
   "cell_type": "code",
   "execution_count": 10,
   "metadata": {},
   "outputs": [],
   "source": [
    "#List of filter names: 2J = 1.235, 2H = 1.662, 2K = 2.159, I1 = 3.55, I2 = 4.493,  I3 = 5.8, I4 = 8.0, M1 = 24.0 \n",
    "filternames = ['2J', '2H', '2K', 'I1', 'I2', 'I3', 'I4', 'M1']\n",
    "filterpeaks = [1.235,1.662,2.159,3.6,4.5,5.8,8.0,23.675]"
   ]
  },
  {
   "cell_type": "code",
   "execution_count": 11,
   "metadata": {},
   "outputs": [],
   "source": [
    "def clean_2MASS_resp(filtname):\n",
    "    restab = pd.read_csv('../data/filterResponses/'+filtname,header=None,delim_whitespace=True)\n",
    "    length = restab.shape[0]\n",
    "    restab = restab.drop([0,1,2,length-5,length-4,length-3,length-2,length-1],axis=0)\n",
    "    restab = restab.drop([2,3,4,5],axis=1)\n",
    "    restab = restab.astype(float)\n",
    "    restab.index = range(len(restab))\n",
    "    return restab\n",
    "\n",
    "def clean_IRAC_resp(filename):\n",
    "    restab = pd.read_csv('../data/filterResponses/'+filename,header=None,delim_whitespace=True)\n",
    "    restab = restab.drop([0,1,2],axis=0)\n",
    "    restab = restab.drop([2,3,4,5,6,7,8,9],axis=1)\n",
    "    restab = restab.astype(float)\n",
    "    restab.index = range(len(restab))\n",
    "    return restab\n",
    "\n",
    "def clean_MIPS_resp(filename):\n",
    "    restab = pd.read_csv('../data/filterResponses/'+filename,header=None,delim_whitespace=True)\n",
    "    restab = restab.drop([2,3,4,5,6],axis=1)\n",
    "    restab = restab.drop([0,1,2],axis=0)\n",
    "    restab = restab.iloc[0:128]\n",
    "    restab = restab.astype(float)\n",
    "    restab.index = range(len(restab))\n",
    "    return restab"
   ]
  },
  {
   "cell_type": "code",
   "execution_count": 12,
   "metadata": {},
   "outputs": [
    {
     "data": {
      "text/html": [
       "<div>\n",
       "<style scoped>\n",
       "    .dataframe tbody tr th:only-of-type {\n",
       "        vertical-align: middle;\n",
       "    }\n",
       "\n",
       "    .dataframe tbody tr th {\n",
       "        vertical-align: top;\n",
       "    }\n",
       "\n",
       "    .dataframe thead th {\n",
       "        text-align: right;\n",
       "    }\n",
       "</style>\n",
       "<table border=\"1\" class=\"dataframe\">\n",
       "  <thead>\n",
       "    <tr style=\"text-align: right;\">\n",
       "      <th></th>\n",
       "      <th>0</th>\n",
       "      <th>1</th>\n",
       "    </tr>\n",
       "  </thead>\n",
       "  <tbody>\n",
       "    <tr>\n",
       "      <th>0</th>\n",
       "      <td>1.062</td>\n",
       "      <td>0.000000</td>\n",
       "    </tr>\n",
       "    <tr>\n",
       "      <th>1</th>\n",
       "      <td>1.066</td>\n",
       "      <td>0.000407</td>\n",
       "    </tr>\n",
       "    <tr>\n",
       "      <th>2</th>\n",
       "      <td>1.070</td>\n",
       "      <td>0.001543</td>\n",
       "    </tr>\n",
       "    <tr>\n",
       "      <th>3</th>\n",
       "      <td>1.075</td>\n",
       "      <td>0.002670</td>\n",
       "    </tr>\n",
       "    <tr>\n",
       "      <th>4</th>\n",
       "      <td>1.078</td>\n",
       "      <td>0.005506</td>\n",
       "    </tr>\n",
       "    <tr>\n",
       "      <th>...</th>\n",
       "      <td>...</td>\n",
       "      <td>...</td>\n",
       "    </tr>\n",
       "    <tr>\n",
       "      <th>102</th>\n",
       "      <td>1.416</td>\n",
       "      <td>0.008648</td>\n",
       "    </tr>\n",
       "    <tr>\n",
       "      <th>103</th>\n",
       "      <td>1.421</td>\n",
       "      <td>0.000729</td>\n",
       "    </tr>\n",
       "    <tr>\n",
       "      <th>104</th>\n",
       "      <td>1.426</td>\n",
       "      <td>0.000348</td>\n",
       "    </tr>\n",
       "    <tr>\n",
       "      <th>105</th>\n",
       "      <td>1.442</td>\n",
       "      <td>0.000378</td>\n",
       "    </tr>\n",
       "    <tr>\n",
       "      <th>106</th>\n",
       "      <td>1.450</td>\n",
       "      <td>0.000000</td>\n",
       "    </tr>\n",
       "  </tbody>\n",
       "</table>\n",
       "<p>107 rows × 2 columns</p>\n",
       "</div>"
      ],
      "text/plain": [
       "         0         1\n",
       "0    1.062  0.000000\n",
       "1    1.066  0.000407\n",
       "2    1.070  0.001543\n",
       "3    1.075  0.002670\n",
       "4    1.078  0.005506\n",
       "..     ...       ...\n",
       "102  1.416  0.008648\n",
       "103  1.421  0.000729\n",
       "104  1.426  0.000348\n",
       "105  1.442  0.000378\n",
       "106  1.450  0.000000\n",
       "\n",
       "[107 rows x 2 columns]"
      ]
     },
     "execution_count": 12,
     "metadata": {},
     "output_type": "execute_result"
    }
   ],
   "source": [
    "twoJResp = clean_2MASS_resp('2J')\n",
    "twoHResp = clean_2MASS_resp('2H')\n",
    "twoKResp = clean_2MASS_resp('2K')\n",
    "Ione = clean_IRAC_resp('I1')\n",
    "Itwo = clean_IRAC_resp('I2')\n",
    "Ithree = clean_IRAC_resp('I3')\n",
    "Ifour = clean_IRAC_resp('I4')\n",
    "Mone = clean_MIPS_resp('M1')\n",
    "\n",
    "responses = [twoJResp, twoHResp, twoKResp, Ione, Itwo, Ithree, Ifour, Mone]\n",
    "\n",
    "responses[0]"
   ]
  },
  {
   "cell_type": "code",
   "execution_count": 13,
   "metadata": {},
   "outputs": [],
   "source": [
    "filters = []\n",
    "for i in range(len(filternames)):\n",
    "    f = Filter()\n",
    "    f.name = filternames[i]\n",
    "    f.central_wavelength = filterpeaks[i] * u.micron\n",
    "    f.nu = (list(reversed(responses[i][0].values)) * u.micron).to(u.Hz,equivalencies = u.spectral())\n",
    "    f.response = list(reversed(responses[i][1].values))\n",
    "    f.normalize()\n",
    "    filters.append(f)"
   ]
  },
  {
   "cell_type": "code",
   "execution_count": 14,
   "metadata": {},
   "outputs": [
    {
     "name": "stdout",
     "output_type": "stream",
     "text": [
      "INFO: 32 SEDs found in ../data/galaxtemps2 [sedfitter.convolve.convolve]\n"
     ]
    }
   ],
   "source": [
    "convolve_model_dir('../data/galaxtemps2',filters)"
   ]
  },
  {
   "cell_type": "code",
   "execution_count": 15,
   "metadata": {},
   "outputs": [
    {
     "name": "stdout",
     "output_type": "stream",
     "text": [
      "Filename: ../data/galaxtemps2/convolved/M1.fits\n",
      "No.    Name      Ver    Type      Cards   Dimensions   Format\n",
      "  0  PRIMARY       1 PrimaryHDU       7   ()      \n",
      "  1  CONVOLVED FLUXES    1 BinTableHDU     19   32R x 3C   [30A, D, D]   \n",
      "SIMPLE  =                    T / conforms to FITS standard                      \n",
      "BITPIX  =                    8 / array data type                                \n",
      "NAXIS   =                    0 / number of array dimensions                     \n",
      "EXTEND  =                    T                                                  \n",
      "FILTWAV =               23.675                                                  \n",
      "NMODELS =                   32                                                  \n",
      "NAP     =                    1                                                  \n",
      "None\n",
      "XTENSION= 'BINTABLE'           / binary table extension                         \n",
      "BITPIX  =                    8 / array data type                                \n",
      "NAXIS   =                    2 / number of array dimensions                     \n",
      "NAXIS1  =                   46 / length of dimension 1                          \n",
      "NAXIS2  =                   32 / length of dimension 2                          \n",
      "PCOUNT  =                    0 / number of group parameters                     \n",
      "GCOUNT  =                    1 / number of groups                               \n",
      "TFIELDS =                    3 / number of table fields                         \n",
      "TTYPE1  = 'MODEL_NAME'                                                          \n",
      "TFORM1  = '30A     '                                                            \n",
      "TTYPE2  = 'TOTAL_FLUX'                                                          \n",
      "TFORM2  = 'D       '                                                            \n",
      "TDIM2   = '(1)     '                                                            \n",
      "TTYPE3  = 'TOTAL_FLUX_ERR'                                                      \n",
      "TFORM3  = 'D       '                                                            \n",
      "TDIM3   = '(1)     '                                                            \n",
      "EXTNAME = 'CONVOLVED FLUXES'   / extension name                                 \n",
      "TUNIT2  = 'mJy     '                                                            \n",
      "TUNIT3  = 'mJy     '                                                            \n",
      "FITS_rec([('WeakPAH_SF_glx_2', [0.16625027], [0.01054743]),\n",
      "          ('SF_Type2_AGN_3', [0.14764908], [0.01039066]),\n",
      "          ('SF_Type2_AGN_2', [0.06830433], [0.00423309]),\n",
      "          ('SF_glx_1', [0.20700999], [0.0153563 ]),\n",
      "          ('MIR_powlaw_SF_glx', [0.11385994], [0.0087122 ]),\n",
      "          ('SF_Type1_AGN_4', [0.16345279], [0.01419809]),\n",
      "          ('Type1_AGN_1', [0.31829328], [0.02678991]),\n",
      "          ('Torus', [0.01257221], [0.00070278]),\n",
      "          ('SF_Type1_AGN_2', [0.44413548], [0.04410045]),\n",
      "          ('SF_Type1_AGN_3', [0.18318359], [0.01312641]),\n",
      "          ('Warm_SF_glx', [0.09473826], [0.00626078]),\n",
      "          ('Red_SF_glx_2', [0.0174585 ], [0.0009756 ]),\n",
      "          ('Elliptical', [0.03019414], [0.0017293 ]),\n",
      "          ('PAH_SF_glx', [0.31834435], [0.02376566]),\n",
      "          ('Cold_glx', [0.10906831], [0.00669068]),\n",
      "          ('MIRex_SF_glx', [0.31968347], [0.02550471]),\n",
      "          ('Type2_AGN_1', [0.04959328], [0.00282655]),\n",
      "          ('Young_SF_glx', [0.92922932], [0.0731479 ]),\n",
      "          ('Si_break', [0.03098077], [0.00173433]),\n",
      "          ('Spiral', [0.1045772 ], [0.00585215]),\n",
      "          ('Blue_SF_glx', [0.28924902], [0.02325146]),\n",
      "          ('Secular_glx', [0.094548  ], [0.00570148]),\n",
      "          ('WeakPAH_SF_glx_1', [0.21256691], [0.01584906]),\n",
      "          ('SF_Type2_AGN_1', [0.16486061], [0.01187484]),\n",
      "          ('SF_glx_2', [0.2443861 ], [0.01790764]),\n",
      "          ('BroadFIR_SF_glx', [0.28084974], [0.02239121]),\n",
      "          ('Type2_AGN_2', [0.06184188], [0.00389006]),\n",
      "          ('Ly_break', [1.42359025], [0.14524972]),\n",
      "          ('Obs_SF_glx', [0.06171849], [0.00388325]),\n",
      "          ('Red_SF_glx_1', [0.13019609], [0.00878412]),\n",
      "          ('Mod_SF_glx', [0.18683397], [0.01358217]),\n",
      "          ('SF_Type1_AGN_1', [0.42883478], [0.03745739])],\n",
      "         dtype=(numpy.record, [('MODEL_NAME', 'S30'), ('TOTAL_FLUX', '>f8', (1,)), ('TOTAL_FLUX_ERR', '>f8', (1,))]))\n"
     ]
    }
   ],
   "source": [
    "with fits.open('../data/galaxtemps2/convolved/M1.fits') as convfits:\n",
    "    convfits.info()\n",
    "    print(repr(convfits[0].header))\n",
    "    print(repr(convfits[0].data))\n",
    "    print(repr(convfits[1].header))\n",
    "    print(repr(convfits[1].data))"
   ]
  }
 ],
 "metadata": {
  "kernelspec": {
   "display_name": "base",
   "language": "python",
   "name": "python3"
  },
  "language_info": {
   "codemirror_mode": {
    "name": "ipython",
    "version": 3
   },
   "file_extension": ".py",
   "mimetype": "text/x-python",
   "name": "python",
   "nbconvert_exporter": "python",
   "pygments_lexer": "ipython3",
   "version": "3.11.7"
  }
 },
 "nbformat": 4,
 "nbformat_minor": 2
}
