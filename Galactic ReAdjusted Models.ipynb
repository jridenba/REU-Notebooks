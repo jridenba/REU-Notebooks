{
 "cells": [
  {
   "cell_type": "markdown",
   "metadata": {},
   "source": [
    "## Recreate our Galactic Models FITS, this time as one FITS file (aka model)"
   ]
  },
  {
   "cell_type": "code",
   "execution_count": 1,
   "metadata": {},
   "outputs": [],
   "source": [
    "import urllib.request\n",
    "import pandas as pd\n",
    "import numpy as np\n",
    "import matplotlib.pyplot as plt\n",
    "import os\n",
    "import astropy.constants as const\n",
    "import astropy.units as u\n",
    "import io "
   ]
  },
  {
   "cell_type": "code",
   "execution_count": 2,
   "metadata": {},
   "outputs": [],
   "source": [
    "files = []\n",
    "for file in os.listdir('../data/galaxySEDs/'):\n",
    "    if file.endswith('.norm_1p6'):\n",
    "        files.append(file)"
   ]
  },
  {
   "cell_type": "markdown",
   "metadata": {},
   "source": [
    "## Create FITS"
   ]
  },
  {
   "cell_type": "code",
   "execution_count": 5,
   "metadata": {},
   "outputs": [],
   "source": [
    "from astropy.io import fits\n",
    "from astropy import table\n",
    "from astropy import units as u\n",
    "from astropy import constants as const"
   ]
  },
  {
   "cell_type": "code",
   "execution_count": 14,
   "metadata": {},
   "outputs": [],
   "source": [
    "tab = []\n",
    "for file in files:\n",
    "    tab.append(pd.read_csv('../data/galaxySEDs/'+file,header = None, delim_whitespace=True))"
   ]
  },
  {
   "cell_type": "code",
   "execution_count": 17,
   "metadata": {},
   "outputs": [
    {
     "name": "stdout",
     "output_type": "stream",
     "text": [
      "0        9.099999e+01\n",
      "1        9.400000e+01\n",
      "2        9.599999e+01\n",
      "3        9.800000e+01\n",
      "4        1.000000e+02\n",
      "             ...     \n",
      "11000    1.909001e+07\n",
      "11001    1.918999e+07\n",
      "11002    1.929000e+07\n",
      "11003    1.938999e+07\n",
      "11004    1.948999e+07\n",
      "Name: 0, Length: 11005, dtype: float64\n"
     ]
    }
   ],
   "source": [
    "print(tab[0][0])"
   ]
  },
  {
   "cell_type": "code",
   "execution_count": null,
   "metadata": {},
   "outputs": [],
   "source": [
    "tab = np.ndarray([pd.read_csv('../data/galaxySEDs/'+file,header = None, delim_whitespace=True) for file in files])\n",
    "for i in range(len(files)):\n",
    "    tab = pd.read_csv('../data/galaxySEDs/'+files[i],header=None,delim_whitespace=True)\n",
    "modname = files[i].split('.')[0]\n",
    "a1 = np.ones(1)\n",
    "primhead = fits.Header([fits.Card('DISTANCE',3E+21,'Distance in cm'),\n",
    "                    fits.Card('NWAV',len(tab),'Number of wavelengths')])\n",
    "primhdu = fits.PrimaryHDU(a1,primhead)\n",
    "\n",
    "col1 = fits.Column(name='MODEL_NAME', format='20A', array=[modname]) #Column objects package the arrays with the typical fits info: name and format\n",
    "cols = fits.ColDefs([col1]) #ColDefs object packages the column objects\n",
    "namehdu = fits.BinTableHDU.from_columns(cols,name = 'MODEL_NAMES') #Creates the bintablehdu object to be made to FITS_rec\n",
    "\n",
    "wavlist = (tab[0]/10**4).values\n",
    "freqlist = const.c.value / wavlist\n",
    "speccol1 = fits.Column(name='WAVELENGTH',format = 'D', unit = 'um', array=wavlist)\n",
    "speccol2 = fits.Column(name='FREQUENCY', format = 'D', unit = 'Hz', array=freqlist)\n",
    "speccols = fits.ColDefs([speccol1,speccol2])\n",
    "spechdu = fits.BinTableHDU.from_columns(speccols,name = 'SPECTRAL_INFO')\n",
    "\n",
    "# Not sure if apertures matter or should be the same as for YSOs? I'm thinking that we have 0 apertures because we only have data\n",
    "# for one model, not across apertures or 10000 models.\n",
    "#aplist = np.logspace(2,6,20)\n",
    "#apcol1 = fits.Column(name='APERTURE', format = 'D', unit = 'AU', array=aplist)\n",
    "#apcols = fits.ColDefs([apcol1])\n",
    "#aphdu = fits.BinTableHDU.from_columns(apcols,name = 'APERTURES')\n",
    "\n",
    "# Giving synthetic unit here: mJy, despite not being in mJy, normalized at 1.6 um, index 6396\n",
    "valdata = np.array((tab[1]).values)\n",
    "valdata = valdata / valdata[6396]\n",
    "valdata = valdata.reshape((1,1,11005))\n",
    "valhdr = fits.Header([fits.Card('BUNIT','mJy','')])\n",
    "valhdu = fits.ImageHDU(data=valdata,name='VALUES',header = valhdr)\n",
    "\n",
    "# Uncertainty in the models?? Don't have any anymore\n",
    "uncdata = np.zeros(11005)\n",
    "uncdata = uncdata.reshape((1,1,11005))\n",
    "unchdr = fits.Header([fits.Card('BUNIT','mJy','')])\n",
    "unchdu = fits.ImageHDU(data=uncdata,name='UNCERTAINTIES',header = unchdr)\n",
    "\n",
    "hdulist = fits.HDUList([primhdu, namehdu, spechdu, valhdu, unchdu])\n",
    "hdulist.writeto('../data/galaxySEDS/'+modname+'/flux.fits',overwrite=True)\n",
    "\n",
    "\n",
    "# Create models.conf file #\n",
    "with open('../data/galaxySEDs/'+modname+'/models.conf','w') as modcon:\n",
    "    l = ['name = '+modname+'\\n', 'length_subdir = 2\\n', 'aperture_dependent = no\\n', 'logd_step = 0.02\\n', 'version = 2\\n']\n",
    "    modcon.writelines(l)"
   ]
  }
 ],
 "metadata": {
  "kernelspec": {
   "display_name": "base",
   "language": "python",
   "name": "python3"
  },
  "language_info": {
   "codemirror_mode": {
    "name": "ipython",
    "version": 3
   },
   "file_extension": ".py",
   "mimetype": "text/x-python",
   "name": "python",
   "nbconvert_exporter": "python",
   "pygments_lexer": "ipython3",
   "version": "3.11.7"
  }
 },
 "nbformat": 4,
 "nbformat_minor": 2
}
