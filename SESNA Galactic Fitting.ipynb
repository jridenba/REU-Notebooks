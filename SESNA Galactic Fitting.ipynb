{
 "cells": [
  {
   "cell_type": "code",
   "execution_count": 6,
   "metadata": {},
   "outputs": [],
   "source": [
    "from sedfitter.sed import SEDCube\n",
    "import sedfitter\n",
    "from sedfitter.extinction import Extinction\n",
    "from sedfitter.source import Source\n",
    "import numpy as np\n",
    "import matplotlib.pyplot as plt\n",
    "import astropy.constants as const\n",
    "import astropy.units as u\n",
    "import os"
   ]
  },
  {
   "cell_type": "code",
   "execution_count": 2,
   "metadata": {},
   "outputs": [
    {
     "name": "stdout",
     "output_type": "stream",
     "text": [
      "32\n"
     ]
    }
   ],
   "source": [
    "models = os.listdir('../data/galaxySEDs/')\n",
    "if '.DS_Store' in models: models.remove('.DS_Store')\n",
    "models = [x for x in models if 'norm' not in x]\n",
    "print(len(models))"
   ]
  },
  {
   "cell_type": "code",
   "execution_count": 3,
   "metadata": {},
   "outputs": [],
   "source": [
    "extinction = Extinction.from_file('../data/raw/whitney.r550.par')"
   ]
  },
  {
   "cell_type": "code",
   "execution_count": 4,
   "metadata": {},
   "outputs": [],
   "source": [
    "apertures = [3., 3., 3., 3., 3., 3., 3., 3.] * u.arcsec"
   ]
  },
  {
   "cell_type": "code",
   "execution_count": 5,
   "metadata": {},
   "outputs": [],
   "source": [
    "# Still want to replace this with Convolved filters\n",
    "filters = [1.235 * u.um, 1.662 * u.um, 2.159 * u.um, 3.55 * u.um, 4.493 * u.um, 5.580 * u.um, 7.650 * u.um, 24.28 * u.um]"
   ]
  },
  {
   "cell_type": "code",
   "execution_count": null,
   "metadata": {},
   "outputs": [],
   "source": [
    "#Testing first SESNA data point with fitting algorithm\n",
    "fitter = Fitter(filters, apertures, '../data/galaxySEDs/Ly_break',\n",
    "              extinction_law=extinction,\n",
    "              distance_range=[0.869, 0.961] * u.kpc,\n",
    "              av_range=[0., 40.], remove_resolved=True)\n"
   ]
  },
  {
   "cell_type": "code",
   "execution_count": null,
   "metadata": {},
   "outputs": [],
   "source": [
    "sourcepath = '../data/raw/SESNA_sources_normalized'\n",
    "sourcefile = open(sourcepath,'r')\n",
    "s = Source()\n",
    "s = Source.from_ascii(sourcefile.readline())\n",
    "\n",
    "info = fitter.fit(s)\n",
    "\n",
    "\n",
    "\n",
    "\n",
    "\n",
    "\n",
    "\n",
    "\n",
    "sourcefile.close()"
   ]
  }
 ],
 "metadata": {
  "kernelspec": {
   "display_name": "base",
   "language": "python",
   "name": "python3"
  },
  "language_info": {
   "codemirror_mode": {
    "name": "ipython",
    "version": 3
   },
   "file_extension": ".py",
   "mimetype": "text/x-python",
   "name": "python",
   "nbconvert_exporter": "python",
   "pygments_lexer": "ipython3",
   "version": "3.11.7"
  }
 },
 "nbformat": 4,
 "nbformat_minor": 2
}
