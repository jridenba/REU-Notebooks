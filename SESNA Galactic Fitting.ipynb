{
 "cells": [
  {
   "cell_type": "code",
   "execution_count": 6,
   "metadata": {},
   "outputs": [],
   "source": [
    "from sedfitter.sed import SEDCube\n",
    "from sedfitter.fit import Fitter\n",
    "from sedfitter.fit_info import FitInfoFile\n",
    "from sedfitter.fit_info import FitInfo\n",
    "from sedfitter.extinction import Extinction\n",
    "from sedfitter.source import Source\n",
    "import sedfitter\n",
    "import numpy as np\n",
    "import matplotlib.pyplot as plt\n",
    "import astropy.constants as const\n",
    "import astropy.units as u\n",
    "import os"
   ]
  },
  {
   "cell_type": "code",
   "execution_count": 7,
   "metadata": {},
   "outputs": [
    {
     "name": "stdout",
     "output_type": "stream",
     "text": [
      "['SF_Type2_AGN_1', 'WeakPAH_SF_glx_1', 'Ly_break', 'Type2_AGN_1', 'Torus', 'Young_SF_glx', 'MIR_powlaw_SF_glx', 'SF_Type1_AGN_1', 'SF_glx_2', 'Si_break', 'Red_SF_glx_2', 'Type1_AGN_1', 'Spiral', 'PAH_SF_glx', 'Mod_SF_glx', 'Blue_SF_glx', 'SF_Type2_AGN_2', 'Elliptical', 'SF_Type2_AGN_3', 'WeakPAH_SF_glx_2', 'Type2_AGN_2', 'Obs_SF_glx', 'MIRex_SF_glx', 'SF_glx_1', 'SF_Type1_AGN_2', 'Red_SF_glx_1', 'BroadFIR_SF_glx', 'SF_Type1_AGN_3', 'SF_Type1_AGN_4', 'Secular_glx', 'Warm_SF_glx', 'Cold_glx']\n"
     ]
    }
   ],
   "source": [
    "models = os.listdir('../data/galaxySEDs/')\n",
    "if '.DS_Store' in models: models.remove('.DS_Store')\n",
    "models = [x for x in models if 'norm' not in x]\n",
    "print((models))"
   ]
  },
  {
   "cell_type": "code",
   "execution_count": 3,
   "metadata": {},
   "outputs": [],
   "source": [
    "extinction = Extinction.from_file('../data/raw/whitney.r550.par')"
   ]
  },
  {
   "cell_type": "code",
   "execution_count": 4,
   "metadata": {},
   "outputs": [],
   "source": [
    "apertures = [3., 3., 3., 3., 3., 3., 3., 3.] * u.arcsec"
   ]
  },
  {
   "cell_type": "code",
   "execution_count": 5,
   "metadata": {},
   "outputs": [],
   "source": [
    "# Still want to replace this with Convolved filters\n",
    "filters = ['2J', '2H', '2K', 'I1', 'I2', 'I3', 'I4', 'M1']\n",
    "filterpeaks = [.36, .44, .55, .64, .79, 1.235, 1.662, 2.159, 3.6, 4.5, 5.8, 8.0, 9.95, 12.93, 17.72, 23.675, 29.95, 35.06, 71.42, 155.9, 443.0, 863.0]"
   ]
  },
  {
   "cell_type": "code",
   "execution_count": null,
   "metadata": {},
   "outputs": [],
   "source": [
    "#Testing first SESNA data point with fitting algorithm\n",
    "\n"
   ]
  },
  {
   "cell_type": "code",
   "execution_count": null,
   "metadata": {},
   "outputs": [],
   "source": [
    "sourcepath = '../data/raw/SESNA_sources_normalized'\n",
    "sourcefile = open(sourcepath,'r')\n",
    "s = Source()\n",
    "\n",
    "while True: # This while loop will run through each Source in SESNA, breaking the loop when it reaches the EOF\n",
    "    try: s = Source.from_ascii(sourcefile.readline())\n",
    "    except EOFError: break\n",
    "\n",
    "    for galmod in models: # This for loop goes through each of the 32 galaxy models and fits them to the current SESNA source\n",
    "        fitter = Fitter(filters, apertures, '../data/galaxySEDs/'+galmod,\n",
    "                extinction_law=extinction,\n",
    "                distance_range=[0.869, 0.961] * u.kpc,\n",
    "                av_range=[0., 40.], remove_resolved=True)\n",
    "        \n",
    "        info = fitter.fit(s)\n",
    "        modelflux = 10**(info.model_fluxes) * u.mJy\n",
    "\n",
    "output = '../data/outputs/output_ngc2264_Ly_break2.fitinfo'\n",
    "fout = FitInfoFile(output,'w')\n",
    "#info = info.keep(output_format)\n",
    "fout.write(info)\n",
    "fout.close()\n",
    "\n",
    "sourcefile.close()"
   ]
  }
 ],
 "metadata": {
  "kernelspec": {
   "display_name": "base",
   "language": "python",
   "name": "python3"
  },
  "language_info": {
   "codemirror_mode": {
    "name": "ipython",
    "version": 3
   },
   "file_extension": ".py",
   "mimetype": "text/x-python",
   "name": "python",
   "nbconvert_exporter": "python",
   "pygments_lexer": "ipython3",
   "version": "3.11.7"
  }
 },
 "nbformat": 4,
 "nbformat_minor": 2
}
