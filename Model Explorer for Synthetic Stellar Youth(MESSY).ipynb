{
 "cells": [
  {
   "cell_type": "markdown",
   "id": "4cb58030-01e5-4ec0-b99b-d0b2d020dcf1",
   "metadata": {},
   "source": [
    "# Taking Apart flux.fits"
   ]
  },
  {
   "cell_type": "code",
   "execution_count": 1,
   "id": "c0161263-3260-4019-9d4a-c9bf71b2a846",
   "metadata": {},
   "outputs": [],
   "source": [
    "from astropy.io import fits\n",
    "from astropy import table\n",
    "from astropy import units as u\n",
    "from astropy import constants as const\n",
    "import numpy as np\n"
   ]
  },
  {
   "cell_type": "code",
   "execution_count": 2,
   "id": "f16ef798-ef8b-427d-957e-3c2ad722a6fe",
   "metadata": {},
   "outputs": [
    {
     "name": "stdout",
     "output_type": "stream",
     "text": [
      "Filename: ../data/YSOmodels/s-p-hmi/flux.fits\n",
      "No.    Name      Ver    Type      Cards   Dimensions   Format\n",
      "  0  PRIMARY       1 PrimaryHDU       8   (10000,)   int64   \n",
      "  1  MODEL_NAMES    1 BinTableHDU     11   10000R x 1C   [20A]   \n",
      "  2  SPECTRAL_INFO    1 BinTableHDU     15   200R x 2C   [D, D]   \n",
      "  3  APERTURES     1 BinTableHDU     12   20R x 1C   [D]   \n",
      "  4  VALUES        1 ImageHDU        10   (200, 20, 10000)   float32   \n",
      "  5  UNCERTAINTIES    1 ImageHDU        10   (200, 20, 10000)   float32   \n"
     ]
    }
   ],
   "source": [
    "# Looking into an example model...let's choose 's-p-hmi' and start with 'flux.fits'\n",
    "hdulflux = fits.open('../data/YSOmodels/s-p-hmi/flux.fits')\n",
    "hdulflux.info()"
   ]
  },
  {
   "cell_type": "code",
   "execution_count": 3,
   "id": "25830b49-fc92-48cc-9821-aae84b8ce431",
   "metadata": {},
   "outputs": [
    {
     "data": {
      "text/plain": [
       "SIMPLE  =                    T / conforms to FITS standard                      \n",
       "BITPIX  =                   64 / array data type                                \n",
       "NAXIS   =                    1 / number of array dimensions                     \n",
       "NAXIS1  =                10000                                                  \n",
       "EXTEND  =                    T                                                  \n",
       "DISTANCE=       3.08568025E+21 / Distance assumed for the values, in cm         \n",
       "NWAV    =                  200 / Number of wavelengths                          \n",
       "NAP     =                   20 / Number of apertures                            "
      ]
     },
     "execution_count": 3,
     "metadata": {},
     "output_type": "execute_result"
    }
   ],
   "source": [
    "hdulflux[0].header #Shows breakdown of the sections, SEDCube reads in the assumed distance from this"
   ]
  },
  {
   "cell_type": "code",
   "execution_count": 4,
   "id": "29aeb878-d181-48cc-93d2-81fd7e290a4c",
   "metadata": {},
   "outputs": [
    {
     "data": {
      "text/plain": [
       "array([1, 0, 1, ..., 1, 1, 1], dtype='>i8')"
      ]
     },
     "execution_count": 4,
     "metadata": {},
     "output_type": "execute_result"
    }
   ],
   "source": [
    "hdulflux[0].data #Validity array, 0 for invalid, 1 for valid, about 90% of points are valid"
   ]
  },
  {
   "cell_type": "code",
   "execution_count": 5,
   "id": "c788cf9b-b983-4b31-ba15-142c844e69a9",
   "metadata": {},
   "outputs": [
    {
     "data": {
      "text/plain": [
       "XTENSION= 'BINTABLE'           / binary table extension                         \n",
       "BITPIX  =                    8 / array data type                                \n",
       "NAXIS   =                    2 / number of array dimensions                     \n",
       "NAXIS1  =                   20 / length of dimension 1                          \n",
       "NAXIS2  =                10000 / length of dimension 2                          \n",
       "PCOUNT  =                    0 / number of group parameters                     \n",
       "GCOUNT  =                    1 / number of groups                               \n",
       "TFIELDS =                    1 / number of table fields                         \n",
       "TTYPE1  = 'MODEL_NAME'                                                          \n",
       "TFORM1  = '20A     '                                                            \n",
       "EXTNAME = 'MODEL_NAMES'        / extension name                                 "
      ]
     },
     "execution_count": 5,
     "metadata": {},
     "output_type": "execute_result"
    }
   ],
   "source": [
    "hdulflux['MODEL_NAMES'].header \n",
    "#'20A' is a sorting notation that says the table is sorted by the first 20 ascii characters in ascending order"
   ]
  },
  {
   "cell_type": "code",
   "execution_count": 7,
   "id": "11143a35-2f13-463c-8ee1-fdf497cced23",
   "metadata": {},
   "outputs": [
    {
     "data": {
      "text/plain": [
       "FITS_rec([('001fS22r_01',), ('00adoafo_01',), ('00obfcP6_01',), ...,\n",
       "          ('zZtw8Idg_01',), ('zz4i8Bbo_01',), ('zzasIb8I_01',)],\n",
       "         dtype=(numpy.record, [('MODEL_NAME', 'S20')]))"
      ]
     },
     "execution_count": 7,
     "metadata": {},
     "output_type": "execute_result"
    }
   ],
   "source": [
    "hdulflux['MODEL_NAMES'].data \n",
    "#List of the model names in this set, weirdly is a tuple, but SEDCube only takes the 'MODEL_NAME' half"
   ]
  },
  {
   "cell_type": "code",
   "execution_count": 9,
   "id": "9e25741b-19d0-4443-bc51-5eae9d64c18f",
   "metadata": {
    "scrolled": true
   },
   "outputs": [
    {
     "name": "stdout",
     "output_type": "stream",
     "text": [
      "XTENSION= 'BINTABLE'           / binary table extension                         BITPIX  =                    8 / array data type                                NAXIS   =                    2 / number of array dimensions                     NAXIS1  =                   16 / length of dimension 1                          NAXIS2  =                  200 / length of dimension 2                          PCOUNT  =                    0 / number of group parameters                     GCOUNT  =                    1 / number of groups                               TFIELDS =                    2 / number of table fields                         TTYPE1  = 'WAVELENGTH'                                                          TFORM1  = 'D       '                                                            TTYPE2  = 'FREQUENCY'                                                           TFORM2  = 'D       '                                                            EXTNAME = 'SPECTRAL_INFO'      / extension name                                 TUNIT1  = 'um      '                                                            TUNIT2  = 'Hz      '                                                            END                                                                                                                                                                                                                                                                                                                                                                                                                                                                                                                                                                                                                                                                                                                                                                                                                                                                                                                                                                                                                                                                                                                                                                                                                                                                                                                                                                                                                                                                                                                                                                                                                                                                                                                                             \n",
      "[(4.83863172e+03, 6.19581062e+10) (4.53135115e+03, 6.61596173e+10)\n",
      " (4.24358464e+03, 7.06460419e+10) (3.97409293e+03, 7.54367005e+10)\n",
      " (3.72171547e+03, 8.05522238e+10) (3.48536542e+03, 8.60146417e+10)\n",
      " (3.26402494e+03, 9.18474778e+10) (3.05674083e+03, 9.80758509e+10)\n",
      " (2.86262044e+03, 1.04726583e+11) (2.68082780e+03, 1.11828316e+11)\n",
      " (2.51058002e+03, 1.19411632e+11) (2.35114394e+03, 1.27509189e+11)\n",
      " (2.20183296e+03, 1.36155859e+11) (2.06200407e+03, 1.45388878e+11)\n",
      " (1.93105511e+03, 1.55248007e+11) (1.80842215e+03, 1.65775706e+11)\n",
      " (1.69357708e+03, 1.77017309e+11) (1.58602533e+03, 1.89021230e+11)\n",
      " (1.48530372e+03, 2.01839162e+11) (1.39097850e+03, 2.15526306e+11)\n",
      " (1.30264347e+03, 2.30141604e+11) (1.21991822e+03, 2.45747996e+11)\n",
      " (1.14244649e+03, 2.62412691e+11) (1.06989465e+03, 2.80207455e+11)\n",
      " (1.00195027e+03, 2.99208919e+11) (9.38320744e+02, 3.19498913e+11)\n",
      " (8.78732052e+02, 3.41164815e+11) (8.22927580e+02, 3.64299928e+11)\n",
      " (7.70667009e+02, 3.89003882e+11) (7.21725280e+02, 4.15383064e+11)\n",
      " (6.75891629e+02, 4.43551074e+11) (6.32968675e+02, 4.73629217e+11)\n",
      " (5.92771572e+02, 5.05747023e+11) (5.55127213e+02, 5.40042806e+11)\n",
      " (5.19873485e+02, 5.76664259e+11) (4.86858568e+02, 6.15769091e+11)\n",
      " (4.55940286e+02, 6.57525705e+11) (4.26985491e+02, 7.02113923e+11)\n",
      " (3.99869489e+02, 7.49725764e+11) (3.74475507e+02, 8.00566265e+11)\n",
      " (3.50694187e+02, 8.54854369e+11) (3.28423116e+02, 9.12823864e+11)\n",
      " (3.07566384e+02, 9.74724395e+11) (2.88034174e+02, 1.04082253e+12)\n",
      " (2.69742369e+02, 1.11140293e+12) (2.52612198e+02, 1.18676952e+12)\n",
      " (2.36569890e+02, 1.26724689e+12) (2.21546359e+02, 1.35318161e+12)\n",
      " (2.07476908e+02, 1.44494373e+12) (1.94300947e+02, 1.54292844e+12)\n",
      " (1.81961734e+02, 1.64755771e+12) (1.70406131e+02, 1.75928211e+12)\n",
      " (1.59584375e+02, 1.87858277e+12) (1.49449862e+02, 2.00597347e+12)\n",
      " (1.39958947e+02, 2.14200281e+12) (1.31070760e+02, 2.28725658e+12)\n",
      " (1.22747023e+02, 2.44236032e+12) (1.14951890e+02, 2.60798198e+12)\n",
      " (1.07651793e+02, 2.78483479e+12) (1.00815293e+02, 2.97368037e+12)\n",
      " (9.44129499e+01, 3.17533197e+12) (8.84171918e+01, 3.39065799e+12)\n",
      " (8.28021983e+01, 3.62058573e+12) (7.75437888e+01, 3.86610537e+12)\n",
      " (7.26193182e+01, 4.12827421e+12) (6.80075794e+01, 4.40822127e+12)\n",
      " (6.36887121e+01, 4.70715215e+12) (5.96441175e+01, 5.02635416e+12)\n",
      " (5.58563775e+01, 5.36720194e+12) (5.23091806e+01, 5.73116334e+12)\n",
      " (4.89872508e+01, 6.11980573e+12) (4.58762823e+01, 6.53480279e+12)\n",
      " (4.29628781e+01, 6.97794169e+12) (4.02344915e+01, 7.45113078e+12)\n",
      " (3.76793729e+01, 7.95640783e+12) (3.52865189e+01, 8.49594879e+12)\n",
      " (3.30456247e+01, 9.07207718e+12) (3.09470400e+01, 9.68727406e+12)\n",
      " (2.89817274e+01, 1.03441887e+13) (2.71412232e+01, 1.10456502e+13)\n",
      " (2.54176015e+01, 1.17946793e+13) (2.38034396e+01, 1.25945016e+13)\n",
      " (2.22917861e+01, 1.34485616e+13) (2.08761311e+01, 1.43605372e+13)\n",
      " (1.95503784e+01, 1.53343558e+13) (1.83088184e+01, 1.63742111e+13)\n",
      " (1.71461045e+01, 1.74845813e+13) (1.60572296e+01, 1.86702480e+13)\n",
      " (1.50375044e+01, 1.99363173e+13) (1.40825375e+01, 2.12882414e+13)\n",
      " (1.31882165e+01, 2.27318424e+13) (1.23506899e+01, 2.42733371e+13)\n",
      " (1.15663510e+01, 2.59193637e+13) (1.08318220e+01, 2.76770110e+13)\n",
      " (1.01439399e+01, 2.95538481e+13) (9.49974212e+00, 3.15579575e+13)\n",
      " (8.89645459e+00, 3.36979698e+13) (8.33147924e+00, 3.59831009e+13)\n",
      " (7.80238302e+00, 3.84231916e+13) (7.30688742e+00, 4.10287501e+13)\n",
      " (6.84285860e+00, 4.38109970e+13) (6.40829825e+00, 4.67819141e+13)\n",
      " (6.00133494e+00, 4.99542953e+13) (5.62021612e+00, 5.33418025e+13)\n",
      " (5.26330050e+00, 5.69590237e+13) (4.92905105e+00, 6.08215364e+13)\n",
      " (4.61602834e+00, 6.49459744e+13) (4.32288434e+00, 6.93500992e+13)\n",
      " (4.04835665e+00, 7.40528772e+13) (3.79126303e+00, 7.90745605e+13)\n",
      " (3.55049631e+00, 8.44367749e+13) (3.32501965e+00, 9.01626125e+13)\n",
      " (3.11386203e+00, 9.62767313e+13) (2.91611412e+00, 1.02805462e+14)\n",
      " (2.73092433e+00, 1.09776919e+14) (2.55749513e+00, 1.17221126e+14)\n",
      " (2.39507968e+00, 1.25170140e+14) (2.24297853e+00, 1.33658194e+14)\n",
      " (2.10053666e+00, 1.42721840e+14) (1.96714066e+00, 1.52400112e+14)\n",
      " (1.84221607e+00, 1.62734689e+14) (1.72522489e+00, 1.73770074e+14)\n",
      " (1.61566332e+00, 1.85553793e+14) (1.51305953e+00, 1.98136591e+14)\n",
      " (1.41697166e+00, 2.11572656e+14) (1.32698592e+00, 2.25919848e+14)\n",
      " (1.24271479e+00, 2.41239954e+14) (1.16379534e+00, 2.57598949e+14)\n",
      " (1.08988774e+00, 2.75067283e+14) (1.02067368e+00, 2.93720181e+14)\n",
      " (9.55855108e-01, 3.13637972e+14) (8.95152885e-01, 3.34906431e+14)\n",
      " (8.38305596e-01, 3.57617150e+14) (7.85068434e-01, 3.81867930e+14)\n",
      " (7.35212133e-01, 4.07763208e+14) (6.88521990e-01, 4.35414500e+14)\n",
      " (6.44796936e-01, 4.64940885e+14) (6.03848672e-01, 4.96469516e+14)\n",
      " (5.65500854e-01, 5.30136172e+14) (5.29588341e-01, 5.66085835e+14)\n",
      " (4.95956476e-01, 6.04473321e+14) (4.64460425e-01, 6.45463944e+14)\n",
      " (4.34964552e-01, 6.89234229e+14) (4.07341835e-01, 7.35972671e+14)\n",
      " (3.81473317e-01, 7.85880545e+14) (3.57247596e-01, 8.39172779e+14)\n",
      " (3.34560346e-01, 8.96078872e+14) (3.13313866e-01, 9.56843889e+14)\n",
      " (2.93416657e-01, 1.02172951e+15) (2.74783034e-01, 1.09101517e+15)\n",
      " (2.57332752e-01, 1.16499923e+15) (2.40990662e-01, 1.24400031e+15)\n",
      " (2.25686388e-01, 1.32835862e+15) (2.11354021e-01, 1.41843745e+15)\n",
      " (1.97931841e-01, 1.51462471e+15) (1.85362046e-01, 1.61733464e+15)\n",
      " (1.73590504e-01, 1.72700955e+15) (1.62566522e-01, 1.84412174e+15)\n",
      " (1.52242625e-01, 1.96917556e+15) (1.42574355e-01, 2.10270955e+15)\n",
      " (1.33520074e-01, 2.24529877e+15) (1.25040792e-01, 2.39755726e+15)\n",
      " (1.17099992e-01, 2.56014072e+15) (1.09663478e-01, 2.73374932e+15)\n",
      " (1.02699225e-01, 2.91913069e+15) (9.61772411e-02, 3.11708315e+15)\n",
      " (9.00694405e-02, 3.32845920e+15) (8.43495198e-02, 3.55416911e+15)\n",
      " (7.89928467e-02, 3.79518489e+15) (7.39763526e-02, 4.05254446e+15)\n",
      " (6.92784344e-02, 4.32735613e+15) (6.48788607e-02, 4.62080337e+15)\n",
      " (6.07586848e-02, 4.93414989e+15) (5.69001635e-02, 5.26874510e+15)\n",
      " (5.32866802e-02, 5.62602993e+15) (4.99026736e-02, 6.00754300e+15)\n",
      " (4.67335707e-02, 6.41492729e+15) (4.37657237e-02, 6.84993718e+15)\n",
      " (4.09863519e-02, 7.31444601e+15) (3.83834860e-02, 7.81045417e+15)\n",
      " (3.59459168e-02, 8.34009771e+15) (3.36631471e-02, 8.90565750e+15)\n",
      " (3.15253462e-02, 9.50956910e+15) (2.95233078e-02, 1.01544332e+16)\n",
      " (2.76484102e-02, 1.08430270e+16) (2.58925793e-02, 1.15783157e+16)\n",
      " (2.42482535e-02, 1.23634660e+16) (2.27083518e-02, 1.32018590e+16)\n",
      " (2.12662426e-02, 1.40971051e+16) (1.99157155e-02, 1.50530599e+16)\n",
      " (1.86509546e-02, 1.60738399e+16) (1.74665131e-02, 1.71638412e+16)\n",
      " (1.63572904e-02, 1.83277579e+16) (1.53185096e-02, 1.95706022e+16)\n",
      " (1.43456973e-02, 2.08977264e+16) (1.34346642e-02, 2.23148457e+16)\n",
      " (1.25814867e-02, 2.38280630e+16) (1.17824909e-02, 2.54438947e+16)\n",
      " (1.10342359e-02, 2.71692994e+16) (1.03334993e-02, 2.90117074e+16)]\n"
     ]
    }
   ],
   "source": [
    "print(hdulflux['SPECTRAL_INFO'].header)\n",
    "print(hdulflux['SPECTRAL_INFO'].data) #Tuple of Wavelength (um) and Frequency (Hz) under names 'WAVELENGTH' and 'FREQUENCY'"
   ]
  },
  {
   "cell_type": "code",
   "execution_count": 23,
   "id": "1eeef307-bdfc-42b5-8ba8-013f22b20b54",
   "metadata": {},
   "outputs": [
    {
     "name": "stdout",
     "output_type": "stream",
     "text": [
      "XTENSION= 'BINTABLE'           / binary table extension                         \n",
      "BITPIX  =                    8 / array data type                                \n",
      "NAXIS   =                    2 / number of array dimensions                     \n",
      "NAXIS1  =                    8 / length of dimension 1                          \n",
      "NAXIS2  =                   20 / length of dimension 2                          \n",
      "PCOUNT  =                    0 / number of group parameters                     \n",
      "GCOUNT  =                    1 / number of groups                               \n",
      "TFIELDS =                    1 / number of table fields                         \n",
      "TTYPE1  = 'APERTURE'                                                            \n",
      "TFORM1  = 'D       '                                                            \n",
      "EXTNAME = 'APERTURES'          / extension name                                 \n",
      "TUNIT1  = 'AU      '                                                            \n",
      "[(1.00000000e+02,) (1.62377674e+02,) (2.63665090e+02,) (4.28133240e+02,)\n",
      " (6.95192796e+02,) (1.12883789e+03,) (1.83298071e+03,) (2.97635144e+03,)\n",
      " (4.83293024e+03,) (7.84759970e+03,) (1.27427499e+04,) (2.06913808e+04,)\n",
      " (3.35981829e+04,) (5.45559478e+04,) (8.85866790e+04,) (1.43844989e+05,)\n",
      " (2.33572147e+05,) (3.79269019e+05,) (6.15848211e+05,) (1.00000000e+06,)]\n"
     ]
    }
   ],
   "source": [
    "print(repr(hdulflux['APERTURES'].header)) #Aperture sizes in units of (AU), also in a tuple with empty value\n",
    "print(hdulflux['APERTURES'].data)"
   ]
  },
  {
   "cell_type": "code",
   "execution_count": 2,
   "id": "11de157b-9f84-424c-8436-508515d800af",
   "metadata": {
    "scrolled": true
   },
   "outputs": [
    {
     "name": "stdout",
     "output_type": "stream",
     "text": [
      "XTENSION= 'IMAGE   '           / Image extension                                \n",
      "BITPIX  =                  -32 / array data type                                \n",
      "NAXIS   =                    3 / number of array dimensions                     \n",
      "NAXIS1  =                  200                                                  \n",
      "NAXIS2  =                   20                                                  \n",
      "NAXIS3  =                10000                                                  \n",
      "PCOUNT  =                    0 / number of parameters                           \n",
      "GCOUNT  =                    1 / number of groups                               \n",
      "BUNIT   = 'mJy     '                                                            \n",
      "EXTNAME = 'UNCERTAINTIES'      / extension name                                 \n",
      "array([[[1.99267101e-02, 2.53303777e-02, 3.21958028e-02, ...,\n",
      "         0.00000000e+00, 0.00000000e+00, 0.00000000e+00],\n",
      "        [3.17076780e-02, 4.03170288e-02, 5.12592420e-02, ...,\n",
      "         0.00000000e+00, 0.00000000e+00, 0.00000000e+00],\n",
      "        [4.98228893e-02, 6.33567870e-02, 8.05604532e-02, ...,\n",
      "         0.00000000e+00, 0.00000000e+00, 0.00000000e+00],\n",
      "        ...,\n",
      "        [5.28170967e+01, 6.65862656e+01, 8.38909531e+01, ...,\n",
      "         0.00000000e+00, 0.00000000e+00, 0.00000000e+00],\n",
      "        [9.07752609e+01, 1.14428627e+02, 1.44151443e+02, ...,\n",
      "         0.00000000e+00, 0.00000000e+00, 0.00000000e+00],\n",
      "        [1.54935989e+02, 1.95300262e+02, 2.46019333e+02, ...,\n",
      "         0.00000000e+00, 0.00000000e+00, 0.00000000e+00]],\n",
      "\n",
      "       [[8.74971040e-03, 1.10709593e-02, 1.40004875e-02, ...,\n",
      "         0.00000000e+00, 0.00000000e+00, 0.00000000e+00],\n",
      "        [3.05988044e-02, 3.83873060e-02, 4.80976999e-02, ...,\n",
      "         0.00000000e+00, 0.00000000e+00, 0.00000000e+00],\n",
      "        [5.45139164e-02, 6.83595315e-02, 8.56112838e-02, ...,\n",
      "         0.00000000e+00, 0.00000000e+00, 0.00000000e+00],\n",
      "        ...,\n",
      "        [3.18348560e+03, 4.01206226e+03, 5.05287598e+03, ...,\n",
      "         0.00000000e+00, 0.00000000e+00, 0.00000000e+00],\n",
      "        [5.39984619e+03, 6.80503125e+03, 8.57004590e+03, ...,\n",
      "         0.00000000e+00, 0.00000000e+00, 0.00000000e+00],\n",
      "        [8.61586719e+03, 1.08578164e+04, 1.36738125e+04, ...,\n",
      "         0.00000000e+00, 0.00000000e+00, 0.00000000e+00]],\n",
      "\n",
      "       [[3.84500512e-04, 4.86822595e-04, 6.16132165e-04, ...,\n",
      "         0.00000000e+00, 0.00000000e+00, 0.00000000e+00],\n",
      "        [5.43644186e-04, 6.87444175e-04, 8.68886069e-04, ...,\n",
      "         0.00000000e+00, 0.00000000e+00, 0.00000000e+00],\n",
      "        [8.46918439e-04, 1.06939324e-03, 1.34956965e-03, ...,\n",
      "         0.00000000e+00, 0.00000000e+00, 0.00000000e+00],\n",
      "        ...,\n",
      "        [2.72843385e+00, 3.43921876e+00, 4.33233404e+00, ...,\n",
      "         0.00000000e+00, 0.00000000e+00, 0.00000000e+00],\n",
      "        [4.40410233e+00, 5.55142069e+00, 6.99305058e+00, ...,\n",
      "         0.00000000e+00, 0.00000000e+00, 0.00000000e+00],\n",
      "        [7.06584072e+00, 8.90657711e+00, 1.12195034e+01, ...,\n",
      "         0.00000000e+00, 0.00000000e+00, 0.00000000e+00]],\n",
      "\n",
      "       ...,\n",
      "\n",
      "       [[2.45198066e-06, 3.10342762e-06, 3.92703760e-06, ...,\n",
      "         0.00000000e+00, 0.00000000e+00, 0.00000000e+00],\n",
      "        [2.45198066e-06, 3.10342762e-06, 3.92703760e-06, ...,\n",
      "         0.00000000e+00, 0.00000000e+00, 0.00000000e+00],\n",
      "        [2.45198066e-06, 3.10342762e-06, 3.92703760e-06, ...,\n",
      "         0.00000000e+00, 0.00000000e+00, 0.00000000e+00],\n",
      "        ...,\n",
      "        [5.98380202e-03, 7.55142840e-03, 9.52433795e-03, ...,\n",
      "         0.00000000e+00, 0.00000000e+00, 0.00000000e+00],\n",
      "        [5.98380202e-03, 7.55142840e-03, 9.52433795e-03, ...,\n",
      "         0.00000000e+00, 0.00000000e+00, 0.00000000e+00],\n",
      "        [5.98380202e-03, 7.55142840e-03, 9.52433795e-03, ...,\n",
      "         0.00000000e+00, 0.00000000e+00, 0.00000000e+00]],\n",
      "\n",
      "       [[2.33797167e-07, 2.94520618e-07, 3.71594183e-07, ...,\n",
      "         5.89775844e-31, 6.56372829e-33, 2.80700130e-35],\n",
      "        [1.25525935e-06, 1.59210640e-06, 2.01956846e-06, ...,\n",
      "         5.89775844e-31, 6.56372829e-33, 2.80700130e-35],\n",
      "        [5.51580342e-06, 7.00324063e-06, 8.89067360e-06, ...,\n",
      "         5.89775844e-31, 6.56372829e-33, 2.80700130e-35],\n",
      "        ...,\n",
      "        [2.77791530e-01, 3.50862831e-01, 4.42932397e-01, ...,\n",
      "         5.89775844e-31, 6.56372829e-33, 2.80700130e-35],\n",
      "        [3.62014234e-01, 4.57076997e-01, 5.76797366e-01, ...,\n",
      "         5.89775844e-31, 6.56372829e-33, 2.80700130e-35],\n",
      "        [3.62014234e-01, 4.57076997e-01, 5.76797366e-01, ...,\n",
      "         5.89775844e-31, 6.56372829e-33, 2.80700130e-35]],\n",
      "\n",
      "       [[6.44921954e-07, 8.15079488e-07, 1.02965907e-06, ...,\n",
      "         0.00000000e+00, 0.00000000e+00, 0.00000000e+00],\n",
      "        [1.28028614e-06, 1.61778394e-06, 2.04328444e-06, ...,\n",
      "         0.00000000e+00, 0.00000000e+00, 0.00000000e+00],\n",
      "        [1.64206097e-06, 2.07489552e-06, 2.62058097e-06, ...,\n",
      "         0.00000000e+00, 0.00000000e+00, 0.00000000e+00],\n",
      "        ...,\n",
      "        [6.58171251e-04, 8.30524310e-04, 1.04740995e-03, ...,\n",
      "         0.00000000e+00, 0.00000000e+00, 0.00000000e+00],\n",
      "        [6.58171251e-04, 8.30524310e-04, 1.04740995e-03, ...,\n",
      "         0.00000000e+00, 0.00000000e+00, 0.00000000e+00],\n",
      "        [6.58171251e-04, 8.30524310e-04, 1.04740995e-03, ...,\n",
      "         0.00000000e+00, 0.00000000e+00, 0.00000000e+00]]], dtype='>f4')\n"
     ]
    }
   ],
   "source": [
    "with fits.open('../data/YSOmodels/s-p-hmi/flux.fits') as hdulflux:\n",
    "    print(repr(hdulflux['UNCERTAINTIES'].header))\n",
    "    print(repr(hdulflux['UNCERTAINTIES'].data))"
   ]
  },
  {
   "cell_type": "markdown",
   "id": "9ab14f5d-020e-4a23-b7fa-f31d72d79ada",
   "metadata": {},
   "source": [
    "## Creating a new Model from scratch ('b-s')"
   ]
  },
  {
   "cell_type": "code",
   "execution_count": 20,
   "id": "c30d7a55-ac0a-4749-93a4-89f3e0ad7e2e",
   "metadata": {},
   "outputs": [],
   "source": [
    "#data = np.arange(100.0) # a simple sequence of floats from 0.0 to 99.0\n",
    "#hdu = fits.PrimaryHDU(data=data) # creates a primary HDU object (header data unit)\n",
    "#hdul = fits.HDUList([hdu]) # creates an hdulist object containing primary hdu and could have others\n",
    "#hdul.writeto('new1.fits') # writes this to a fits file -- THIS ONLY WORKS FOR IMAGE FITS\n",
    "#--------------------#\n",
    "a1 = np.zeros(10000)\n",
    "for i in range(1,10000):\n",
    "    a1[i] = np.random.choice([0,1],p=[.1,.9])\n",
    "a1 = a1.astype(int)\n",
    "primhead = fits.Header([fits.Card('DISTANCE',3E+21,'Distance in cm'),\n",
    "                        fits.Card('NWAV',200,'Number of wavelengths'),fits.Card('NAP',20,'Number of Apertures')])\n",
    "primhdu = fits.PrimaryHDU(a1,primhead)\n",
    "\n",
    "modlist = np.arange(0,10000,1)\n",
    "modlist.astype(str)\n",
    "col1 = fits.Column(name='MODEL_NAME', format='20A', array=modlist) #Column objects package the arrays with the typical fits info: name and format\n",
    "cols = fits.ColDefs([col1]) #ColDefs object packages the column objects\n",
    "modhdu = fits.BinTableHDU.from_columns(cols,name = 'MODEL_NAMES') #Creates the bintablehdu object to be made to FITS_rec\n",
    "\n",
    "speclist = np.logspace(-2,3.7,200)\n",
    "freqlist = const.c.value / speclist\n",
    "speccol1 = fits.Column(name='WAVELENGTH',format = 'D', unit = 'um', array=speclist)\n",
    "speccol2 = fits.Column(name='FREQUENCY', format = 'D', unit = 'Hz', array=freqlist)\n",
    "speccols = fits.ColDefs([speccol1,speccol2])\n",
    "spechdu = fits.BinTableHDU.from_columns(speccols,name = 'SPECTRAL_INFO')\n",
    "\n",
    "aplist = np.logspace(2,6,20)\n",
    "apcol1 = fits.Column(name='APERTURE', format = 'D', unit = 'AU', array=aplist)\n",
    "apcols = fits.ColDefs([apcol1])\n",
    "aphdu = fits.BinTableHDU.from_columns(apcols,name = 'APERTURES')\n",
    "\n",
    "valdata = np.zeros((10000,20,200))\n",
    "valdata += np.random.normal(10**3,10*2,(10000,20,200))\n",
    "valhdr = fits.Header([fits.Card('BUNIT','mJy','')])\n",
    "valhdu = fits.ImageHDU(data=valdata,name='VALUES',header = valhdr)\n",
    "\n",
    "uncdata = np.zeros((10000,20,200))\n",
    "uncdata += np.absolute(np.random.normal(0,10**-2,(10000,20,200)))\n",
    "unchdr = fits.Header([fits.Card('BUNIT','mJy','')])\n",
    "unchdu = fits.ImageHDU(data=uncdata,name='UNCERTAINTIES',header = unchdr)\n",
    "\n",
    "\n",
    "hdulist = fits.HDUList([primhdu,modhdu,spechdu,aphdu,valhdu,unchdu])\n",
    "#OR\n",
    "# hdu = fits.BinTableHDU.from_columns(\n",
    "#     [fits.Column(name='target', format='20A', array=a1),\n",
    "#      fits.Column(name='V_mag', format='E', array=a2)])\n",
    "#\n",
    "#OR Use table interface\n",
    "#c1 = fits.Column(name='a', array=np.array([1, 2]), format='K')\n",
    "#c2 = fits.Column(name='b', array=np.array([4, 5]), format='K')\n",
    "#c3 = fits.Column(name='c', array=np.array([7, 8]), format='K')\n",
    "#t = fits.BinTableHDU.from_columns([c1, c2, c3])\n",
    "#t.writeto('table2.fits')\n",
    "\n",
    "hdulist.writeto('../data/YSOmodels/b-s/flux.fits',overwrite=True)"
   ]
  },
  {
   "cell_type": "code",
   "execution_count": 21,
   "id": "d2607a00-2af1-4695-8183-5d73bd2f383b",
   "metadata": {
    "scrolled": true
   },
   "outputs": [
    {
     "name": "stdout",
     "output_type": "stream",
     "text": [
      "Filename: ../data/YSOmodels/b-s/flux.fits\n",
      "No.    Name      Ver    Type      Cards   Dimensions   Format\n",
      "  0  PRIMARY       1 PrimaryHDU       8   (10000,)   int64   \n",
      "  1  MODEL_NAMES    1 BinTableHDU     11   10000R x 1C   [20A]   \n",
      "  2  SPECTRAL_INFO    1 BinTableHDU     15   200R x 2C   [D, D]   \n",
      "  3  APERTURES     1 BinTableHDU     12   20R x 1C   [D]   \n",
      "  4  VALUES        1 ImageHDU        10   (200, 20, 10000)   float64   \n",
      "  5  UNCERTAINTIES    1 ImageHDU        10   (200, 20, 10000)   float64   \n",
      "XTENSION= 'IMAGE   '           / Image extension                                \n",
      "BITPIX  =                  -64 / array data type                                \n",
      "NAXIS   =                    3 / number of array dimensions                     \n",
      "NAXIS1  =                  200                                                  \n",
      "NAXIS2  =                   20                                                  \n",
      "NAXIS3  =                10000                                                  \n",
      "PCOUNT  =                    0 / number of parameters                           \n",
      "GCOUNT  =                    1 / number of groups                               \n",
      "BUNIT   = 'mJy     '                                                            \n",
      "EXTNAME = 'UNCERTAINTIES'      / extension name                                 \n",
      "array([[[6.24853656e-03, 2.22398904e-04, 1.43950406e-03, ...,\n",
      "         7.43970739e-03, 9.24233318e-03, 4.37693510e-03],\n",
      "        [2.81971229e-03, 9.71928999e-03, 8.56013059e-03, ...,\n",
      "         6.63670928e-03, 2.85463882e-03, 3.48951313e-03],\n",
      "        [1.47625660e-02, 5.57258684e-03, 2.20040861e-03, ...,\n",
      "         9.47231513e-03, 9.51495031e-03, 1.63369784e-02],\n",
      "        ...,\n",
      "        [3.08814970e-03, 6.82410976e-03, 9.39376787e-03, ...,\n",
      "         6.57962615e-03, 5.95221904e-03, 9.43977963e-03],\n",
      "        [1.86126587e-02, 1.14103090e-02, 9.91927453e-03, ...,\n",
      "         2.02515045e-03, 1.14080742e-03, 7.11685236e-04],\n",
      "        [1.47507214e-02, 1.26370507e-02, 4.86054766e-03, ...,\n",
      "         1.49873778e-02, 1.66864584e-02, 1.97832308e-02]],\n",
      "\n",
      "       [[1.59036555e-02, 1.96163102e-02, 1.28609632e-02, ...,\n",
      "         6.77867110e-03, 6.75468270e-03, 1.11904233e-02],\n",
      "        [1.05563990e-02, 1.09109991e-03, 1.16620614e-02, ...,\n",
      "         3.46205223e-03, 1.31638742e-02, 1.65336050e-02],\n",
      "        [6.29553174e-03, 1.16572691e-02, 5.68315003e-03, ...,\n",
      "         6.52957527e-03, 4.34838855e-03, 7.67407242e-04],\n",
      "        ...,\n",
      "        [8.12345822e-03, 1.14599016e-02, 5.91123028e-04, ...,\n",
      "         4.47992717e-03, 1.12604450e-02, 1.59727980e-02],\n",
      "        [1.27692532e-02, 7.47444271e-04, 4.31751880e-03, ...,\n",
      "         1.70319191e-02, 5.15019880e-03, 3.88489888e-03],\n",
      "        [6.07369881e-03, 5.23518731e-03, 6.61230204e-03, ...,\n",
      "         2.01517848e-03, 6.67241315e-03, 8.65651199e-03]],\n",
      "\n",
      "       [[4.70675058e-03, 1.14505891e-02, 3.54110312e-02, ...,\n",
      "         1.65784559e-02, 3.61269162e-03, 5.15410137e-03],\n",
      "        [2.71279018e-03, 6.86730718e-03, 1.67342951e-03, ...,\n",
      "         2.16031407e-03, 9.03138976e-04, 5.81230294e-03],\n",
      "        [1.19342042e-02, 4.09024726e-03, 4.37918686e-03, ...,\n",
      "         2.20093034e-02, 1.08784475e-02, 4.49488297e-03],\n",
      "        ...,\n",
      "        [7.95172178e-03, 2.12159236e-03, 1.09454716e-03, ...,\n",
      "         8.52324728e-03, 6.05249838e-03, 1.18628684e-02],\n",
      "        [9.75407523e-03, 3.61791600e-03, 1.64957036e-02, ...,\n",
      "         2.38038821e-02, 6.16680768e-03, 2.57963004e-03],\n",
      "        [4.10388974e-04, 2.64692920e-05, 1.89633073e-02, ...,\n",
      "         8.72518030e-03, 4.58684899e-04, 1.16406716e-02]],\n",
      "\n",
      "       ...,\n",
      "\n",
      "       [[8.27559547e-03, 9.55706592e-03, 5.08340619e-03, ...,\n",
      "         1.54062655e-02, 1.38899220e-02, 6.82564038e-03],\n",
      "        [1.09321086e-02, 1.30219731e-02, 1.43514002e-02, ...,\n",
      "         3.79471849e-03, 1.25684684e-02, 1.81411724e-03],\n",
      "        [1.06190728e-02, 2.66467840e-02, 6.44966330e-03, ...,\n",
      "         5.32212473e-03, 1.07390718e-03, 1.02389717e-03],\n",
      "        ...,\n",
      "        [2.50006209e-03, 7.57446815e-04, 6.36335234e-03, ...,\n",
      "         3.00637954e-02, 5.44173852e-03, 1.26712283e-02],\n",
      "        [8.07298448e-03, 6.56791353e-04, 2.21022432e-03, ...,\n",
      "         6.58730139e-03, 9.57777292e-03, 2.06237528e-03],\n",
      "        [5.43609592e-03, 2.11997925e-03, 1.55010687e-02, ...,\n",
      "         2.13854943e-03, 3.91575893e-03, 3.64612981e-03]],\n",
      "\n",
      "       [[1.53419794e-02, 7.04054342e-03, 5.68800672e-04, ...,\n",
      "         1.32765068e-02, 5.74162662e-03, 1.81797022e-03],\n",
      "        [3.18064829e-03, 6.33054759e-03, 5.74470768e-03, ...,\n",
      "         1.35752877e-02, 1.05461777e-02, 9.15245822e-03],\n",
      "        [8.19820808e-03, 2.50115259e-02, 3.10150206e-03, ...,\n",
      "         8.50062797e-03, 1.69179541e-02, 6.24502890e-03],\n",
      "        ...,\n",
      "        [4.69912949e-03, 2.03663738e-02, 6.76492279e-03, ...,\n",
      "         1.11532522e-02, 1.22987944e-02, 6.18188384e-03],\n",
      "        [1.04587669e-02, 9.55681788e-03, 1.30964096e-02, ...,\n",
      "         1.44636413e-02, 1.14687555e-02, 1.41482642e-02],\n",
      "        [4.22111995e-03, 8.66566555e-03, 8.63972692e-03, ...,\n",
      "         2.24465291e-03, 3.63046523e-03, 1.46991691e-02]],\n",
      "\n",
      "       [[4.51569378e-03, 1.54919436e-02, 1.96701930e-02, ...,\n",
      "         1.10011257e-02, 6.01641289e-03, 4.38646183e-03],\n",
      "        [5.83871794e-03, 7.01277233e-03, 1.72234649e-02, ...,\n",
      "         1.16457203e-02, 1.33387787e-03, 8.76096573e-03],\n",
      "        [1.09838004e-02, 7.00407819e-03, 1.55558087e-03, ...,\n",
      "         1.41911223e-02, 3.70592386e-03, 1.76370181e-02],\n",
      "        ...,\n",
      "        [5.92276100e-03, 8.94248434e-03, 7.97316353e-03, ...,\n",
      "         1.45684703e-02, 1.17979753e-02, 2.73560890e-02],\n",
      "        [4.35876270e-03, 1.86620351e-02, 1.71639148e-02, ...,\n",
      "         5.10177590e-03, 1.29084008e-02, 1.67316943e-02],\n",
      "        [1.97547972e-02, 1.67832579e-02, 1.46248622e-02, ...,\n",
      "         1.32586086e-02, 2.18671737e-02, 1.19725448e-02]]], dtype='>f8')\n"
     ]
    }
   ],
   "source": [
    "with fits.open('../data/YSOmodels/b-s/flux.fits') as testfits:\n",
    "    testfits.info()\n",
    "    #print(repr(testfits[0].header))\n",
    "    #print(repr(testfits[0].data))\n",
    "    print(repr(testfits[5].header))\n",
    "    print(repr(testfits[5].data))"
   ]
  },
  {
   "cell_type": "markdown",
   "id": "79c0e61e-ff0b-4c90-8574-4ea20a1b1057",
   "metadata": {
    "jp-MarkdownHeadingCollapsed": true
   },
   "source": [
    "# Parameter Files, etc."
   ]
  },
  {
   "cell_type": "code",
   "execution_count": 3,
   "id": "f9a69ec6-d5ed-4234-943b-7c29bf6245f7",
   "metadata": {},
   "outputs": [
    {
     "name": "stdout",
     "output_type": "stream",
     "text": [
      "Filename: ../data/YSOmodels/s-p-hmi/parameters.fits\n",
      "No.    Name      Ver    Type      Cards   Dimensions   Format\n",
      "  0  PRIMARY       1 PrimaryHDU       4   ()      \n",
      "  1                1 BinTableHDU     28   10000R x 10C   [20A, D, D, D, D, D, D, D, K, D]   \n"
     ]
    }
   ],
   "source": [
    "# 'parameters.fits'\n",
    "hdulparam = fits.open('../data/YSOmodels/s-p-hmi/parameters.fits')\n",
    "hdulparam.info()"
   ]
  },
  {
   "cell_type": "code",
   "execution_count": 7,
   "id": "1ad57878-2481-4f28-adf4-38d7c19cf61f",
   "metadata": {},
   "outputs": [
    {
     "name": "stdout",
     "output_type": "stream",
     "text": [
      "Filename: ../data/YSOmodels/s-p-hmi/stellar.fits\n",
      "No.    Name      Ver    Type      Cards   Dimensions   Format\n",
      "  0  PRIMARY       1 PrimaryHDU       7   (10000,)   int64   \n",
      "  1  MODEL_NAMES    1 BinTableHDU     11   10000R x 1C   [20A]   \n",
      "  2  SPECTRAL_INFO    1 BinTableHDU     15   200R x 2C   [D, D]   \n",
      "  3  VALUES        1 ImageHDU        10   (200, 1, 10000)   float32   \n"
     ]
    }
   ],
   "source": [
    "hdulstel = fits.open('../data/YSOmodels/s-p-hmi/stellar.fits')\n",
    "hdulstel.info()"
   ]
  },
  {
   "cell_type": "markdown",
   "id": "38ee606b-0254-486c-a428-7b087e1ff29d",
   "metadata": {},
   "source": [
    "# Convolved Fluxes"
   ]
  },
  {
   "cell_type": "code",
   "execution_count": 24,
   "id": "a31661b6-93c7-4506-b8ca-872c57fee827",
   "metadata": {},
   "outputs": [
    {
     "name": "stdout",
     "output_type": "stream",
     "text": [
      "Filename: ../data/YSOmodels/s-p-hmi/convolved/W2.fits\n",
      "No.    Name      Ver    Type      Cards   Dimensions   Format\n",
      "  0  PRIMARY       1 PrimaryHDU       7   ()      \n",
      "  1  CONVOLVED FLUXES    1 BinTableHDU     17   10000R x 3C   [30A, 20D, 20D]   \n",
      "  2  APERTURES     1 BinTableHDU     12   20R x 1C   [D]   \n",
      "SIMPLE  =                    T / conforms to FITS standard                      \n",
      "BITPIX  =                    8 / array data type                                \n",
      "NAXIS   =                    0 / number of array dimensions                     \n",
      "EXTEND  =                    T                                                  \n",
      "FILTWAV =                863.0                                                  \n",
      "NMODELS =                10000                                                  \n",
      "NAP     =                   20                                                  \n"
     ]
    }
   ],
   "source": [
    "with fits.open('../data/YSOmodels/s-p-hmi/convolved/W2.fits') as convfits:\n",
    "    convfits.info()\n",
    "    print(repr(convfits[0].header))\n",
    "    #print(repr(convfits[1].header))\n",
    "    #print(repr(convfits[2].header))"
   ]
  },
  {
   "cell_type": "markdown",
   "id": "763ed8cc-9d84-472f-811d-448fb1715cf6",
   "metadata": {},
   "source": [
    "# Fits Closer"
   ]
  },
  {
   "cell_type": "code",
   "execution_count": null,
   "id": "e14701d6-b0af-45c5-a7c1-9e514aa59652",
   "metadata": {},
   "outputs": [],
   "source": [
    "hdulflux.close()\n",
    "hdulparam.close()\n",
    "hdulstel.close()"
   ]
  },
  {
   "cell_type": "code",
   "execution_count": 9,
   "id": "72a274e3-cbd7-4c68-8587-915f1e7a41a0",
   "metadata": {},
   "outputs": [
    {
     "name": "stdout",
     "output_type": "stream",
     "text": [
      "name = s-p-hmi\n",
      "# Robitaille (2017) YSO SED models v1.1\n",
      "# https://doi.org/10.5281/zenodo.166732\n",
      "length_subdir = 2\n",
      "aperture_dependent = yes\n",
      "logd_step = 0.02\n",
      "version = 2\n"
     ]
    }
   ],
   "source": [
    "%cat ../data/YSOmodels/s-p-hmi/models.conf"
   ]
  },
  {
   "cell_type": "code",
   "execution_count": null,
   "id": "e7d3a485-cfc1-4aad-aeb0-961a3d104e6a",
   "metadata": {},
   "outputs": [],
   "source": []
  }
 ],
 "metadata": {
  "kernelspec": {
   "display_name": "Python 3 (ipykernel)",
   "language": "python",
   "name": "python3"
  },
  "language_info": {
   "codemirror_mode": {
    "name": "ipython",
    "version": 3
   },
   "file_extension": ".py",
   "mimetype": "text/x-python",
   "name": "python",
   "nbconvert_exporter": "python",
   "pygments_lexer": "ipython3",
   "version": "3.11.7"
  }
 },
 "nbformat": 4,
 "nbformat_minor": 5
}
