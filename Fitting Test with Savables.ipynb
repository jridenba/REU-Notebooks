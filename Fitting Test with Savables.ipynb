{
 "cells": [
  {
   "cell_type": "code",
   "execution_count": 1,
   "metadata": {},
   "outputs": [],
   "source": [
    "from sedfitter.sed import SEDCube\n",
    "from sedfitter.fit import Fitter\n",
    "from sedfitter.fit_info import FitInfoFile\n",
    "from sedfitter.fit_info import FitInfo\n",
    "from sedfitter.extinction import Extinction\n",
    "from sedfitter.source import Source\n",
    "import sedfitter\n",
    "import numpy as np\n",
    "import matplotlib.pyplot as plt\n",
    "import astropy.constants as const\n",
    "import astropy.units as u\n",
    "import os"
   ]
  },
  {
   "cell_type": "code",
   "execution_count": 2,
   "metadata": {},
   "outputs": [],
   "source": [
    "extinction = Extinction.from_file('../data/raw/whitney.r550.par')"
   ]
  },
  {
   "cell_type": "code",
   "execution_count": 3,
   "metadata": {},
   "outputs": [],
   "source": [
    "apertures = [3., 3., 3., 3., 3., 3., 3., 3., 3., 3., 3., 3., 3., 3., 3., 3.,\n",
    "             3., 3., 20., 30., 30., 30.] * u.arcsec"
   ]
  },
  {
   "cell_type": "code",
   "execution_count": 25,
   "metadata": {},
   "outputs": [],
   "source": [
    "filterstest2 = [.36 * u.um, .44 * u.um, .55 * u.um, .64 * u.um, .79 * u.um, \n",
    "               '2J', '2H', '2K', 'I1', 'I2',\n",
    "               'I3', 'I4', 9.95 * u.um, 12.93 * u.um, 17.72 * u.um, 'M1',\n",
    "               29.95 * u.um, 35.06 * u.um, 71.42 * u.um, 155.9 * u.um, 443.0 * u.um, 863.0 * u.um]\n",
    "filterpeaks = [.36, .44, .55, .64, .79, \n",
    "               1.235, 1.662, 2.159, 3.6, 4.5, 5.8, 8.0,\n",
    "               9.95, 12.93, 17.72, 23.675,\n",
    "               29.95, 35.06, 71.42, 155.9, 443.0, 863.0]"
   ]
  },
  {
   "cell_type": "code",
   "execution_count": 22,
   "metadata": {},
   "outputs": [
    {
     "name": "stdout",
     "output_type": "stream",
     "text": [
      "<class 'numpy.float64'>\n",
      "<class 'astropy.units.quantity.Quantity'>\n"
     ]
    }
   ],
   "source": [
    "print(type(filterpeaks[0].value))\n",
    "print(type(apertures))"
   ]
  },
  {
   "cell_type": "code",
   "execution_count": 5,
   "metadata": {},
   "outputs": [],
   "source": [
    "def fit(filts, aps, model, extinction, distance_r, av_r, remove_resolved, source):\n",
    "    '''\n",
    "    Function to fit a model directory to a source file\n",
    "    Inputs:\n",
    "        filters, apertures, path to model directory, extinction law, distance range, av range, remove_resolved, and path to source file.\n",
    "    Outputs: FitInfo Object\n",
    "    '''\n",
    "    fitter = Fitter(filts, aps, model,\n",
    "              extinction_law=extinction,\n",
    "              distance_range=distance_r,\n",
    "              av_range=av_r, remove_resolved=remove_resolved)\n",
    "    \n",
    "    sourcefile = open(source,'r')\n",
    "    s = Source()\n",
    "    s = Source.from_ascii(sourcefile.readline())\n",
    "    sourcefile.close()\n",
    "\n",
    "    info = fitter.fit(s)\n",
    "    return info"
   ]
  },
  {
   "cell_type": "code",
   "execution_count": 9,
   "metadata": {},
   "outputs": [
    {
     "name": "stdout",
     "output_type": "stream",
     "text": [
      " ------------------------------------------------------------\n",
      "  => Model parameters\n",
      " ------------------------------------------------------------\n",
      "\n",
      "   Models              :  Ly_break\n",
      "   Log[d] stepping     :  0.02\n",
      "\n",
      " ------------------------------------------------------------\n",
      "  => Reading in convolved fluxes\n",
      " ------------------------------------------------------------\n",
      "\n",
      "Data shape=(1, 22).  use_memmap=True\n",
      "   Reading fluxes at 0.36 um\n",
      "   Reading fluxes at 0.44 um\n",
      "   Reading fluxes at 0.55 um\n",
      "   Reading fluxes at 0.64 um\n",
      "   Reading fluxes at 0.79 um\n",
      "   Reading fluxes at 1.235 um\n",
      "   Reading fluxes at 1.662 um\n",
      "   Reading fluxes at 2.159 um\n",
      "   Reading fluxes at 3.55 um\n",
      "   Reading fluxes at 4.493 um\n",
      "   Reading fluxes at 5.58 um\n",
      "   Reading fluxes at 7.65 um\n",
      "   Reading fluxes at 9.95 um\n",
      "   Reading fluxes at 12.93 um\n",
      "   Reading fluxes at 17.72 um\n",
      "   Reading fluxes at 24.28 um\n",
      "   Reading fluxes at 29.95 um\n",
      "   Reading fluxes at 35.06 um\n",
      "   Reading fluxes at 71.42 um\n",
      "   Reading fluxes at 155.9 um\n",
      "   Reading fluxes at 443.0 um\n",
      "   Reading fluxes at 863.0 um\n"
     ]
    }
   ],
   "source": [
    "# Rather than use the sedfitter.fit() function, we go through the steps it takes ourselves so as to keep the output FitInfo file\n",
    "# Here we instantiate a Fitter object\n",
    "fitter = Fitter(filterstest2, apertures, '../data/galaxySEDs/Ly_break',\n",
    "              extinction_law=extinction,\n",
    "              distance_range=[0.869, 0.961] * u.kpc,\n",
    "              av_range=[0., 40.], remove_resolved=True)"
   ]
  },
  {
   "cell_type": "code",
   "execution_count": 27,
   "metadata": {},
   "outputs": [],
   "source": [
    "# Opening Source file to fit\n",
    "sourcepath = '../data/raw/data_ngc2264_20_normalized.txt'\n",
    "sourcefile = open(sourcepath,'r')\n",
    "s = Source()\n",
    "s = Source.from_ascii(sourcefile.readline())\n",
    "sourcefile.close()"
   ]
  },
  {
   "cell_type": "code",
   "execution_count": 45,
   "metadata": {},
   "outputs": [
    {
     "name": "stdout",
     "output_type": "stream",
     "text": [
      "16\n"
     ]
    }
   ],
   "source": [
    "print(len([x for x in s.valid if x == 1]))\n",
    "chi2_DOF = len([x for x in s.valid if x == 1])"
   ]
  },
  {
   "cell_type": "code",
   "execution_count": 16,
   "metadata": {},
   "outputs": [],
   "source": [
    "# Fits to source using call to models.fit()\n",
    "info = fitter.fit(s)"
   ]
  },
  {
   "cell_type": "code",
   "execution_count": 10,
   "metadata": {},
   "outputs": [
    {
     "name": "stdout",
     "output_type": "stream",
     "text": [
      " ------------------------------------------------------------\n",
      "  => Model parameters\n",
      " ------------------------------------------------------------\n",
      "\n",
      "   Models              :  Ly_break\n",
      "   Log[d] stepping     :  0.02\n",
      "\n",
      " ------------------------------------------------------------\n",
      "  => Reading in convolved fluxes\n",
      " ------------------------------------------------------------\n",
      "\n",
      "Data shape=(1, 22).  use_memmap=True\n",
      "   Reading fluxes at 0.36 um\n",
      "   Reading fluxes at 0.44 um\n",
      "   Reading fluxes at 0.55 um\n",
      "   Reading fluxes at 0.64 um\n",
      "   Reading fluxes at 0.79 um\n",
      "   Reading ../data/galaxySEDs/Ly_break/convolved/2J.fits\n",
      "   Reading ../data/galaxySEDs/Ly_break/convolved/2H.fits\n",
      "   Reading ../data/galaxySEDs/Ly_break/convolved/2K.fits\n",
      "   Reading ../data/galaxySEDs/Ly_break/convolved/I1.fits\n",
      "   Reading ../data/galaxySEDs/Ly_break/convolved/I2.fits\n",
      "   Reading ../data/galaxySEDs/Ly_break/convolved/I3.fits\n",
      "   Reading ../data/galaxySEDs/Ly_break/convolved/I4.fits\n",
      "   Reading fluxes at 9.95 um\n",
      "   Reading fluxes at 12.93 um\n",
      "   Reading fluxes at 17.72 um\n",
      "   Reading ../data/galaxySEDs/Ly_break/convolved/M1.fits\n",
      "   Reading fluxes at 29.95 um\n",
      "   Reading fluxes at 35.06 um\n",
      "   Reading fluxes at 71.42 um\n",
      "   Reading fluxes at 155.9 um\n",
      "   Reading fluxes at 443.0 um\n",
      "   Reading fluxes at 863.0 um\n"
     ]
    }
   ],
   "source": [
    "info = fit(filterstest2, apertures, '../data/galaxySEDs/Ly_break',\n",
    "              extinction,\n",
    "              [0.869, 0.961] * u.kpc,\n",
    "              [0., 40.], True, '../data/raw/data_ngc2264_20_normalized.txt')"
   ]
  },
  {
   "cell_type": "code",
   "execution_count": 13,
   "metadata": {},
   "outputs": [
    {
     "name": "stdout",
     "output_type": "stream",
     "text": [
      "[351.41410841]\n",
      "[[-2.336027   -1.53650246 -0.74746365 -0.47993133  1.00286194  2.18346527\n",
      "   2.61872918  2.87983607  3.16698143  3.23543417  3.32268936  3.47270639\n",
      "   3.57624864  3.72708913  3.78162129  3.95810899  4.2458117   4.26142073\n",
      "   4.42991351  4.60651471  2.83375966  2.41388297]]\n",
      "Source name : 20\n",
      "x           : 100.20250\n",
      "y           :   9.59936\n",
      "F =   0.0000e+00 + / -   0.0000e+00 mJy (0)  Log[F] =  0.00000+ / - 0.00000\n",
      "F =   0.0000e+00 + / -   0.0000e+00 mJy (0)  Log[F] =  0.00000+ / - 0.00000\n",
      "F =   1.4485e-01 + / -   1.4485e-02 mJy (1)  Log[F] = -0.84125+ / - 0.04343\n",
      "F =   1.0000e+00 + / -   1.0000e-01 mJy (1)  Log[F] = -0.00217+ / - 0.04343\n",
      "F =   4.5303e+00 + / -   4.5303e-01 mJy (1)  Log[F] =  0.65396+ / - 0.04343\n",
      "F =   9.3388e+01 + / -   9.3388e+00 mJy (1)  Log[F] =  1.96812+ / - 0.04343\n",
      "F =   3.2156e+02 + / -   3.2156e+01 mJy (1)  Log[F] =  2.50509+ / - 0.04343\n",
      "F =   7.2599e+02 + / -   7.2599e+01 mJy (1)  Log[F] =  2.85876+ / - 0.04343\n",
      "F =   1.5438e+03 + / -   1.5438e+02 mJy (1)  Log[F] =  3.18642+ / - 0.04343\n",
      "F =   2.1116e+03 + / -   2.1116e+02 mJy (1)  Log[F] =  3.32245+ / - 0.04343\n",
      "F =   2.9423e+03 + / -   2.9423e+02 mJy (1)  Log[F] =  3.46651+ / - 0.04343\n",
      "F =   3.9076e+03 + / -   3.9076e+02 mJy (1)  Log[F] =  3.58974+ / - 0.04343\n",
      "F =   4.8653e+03 + / -   4.8653e+02 mJy (1)  Log[F] =  3.68493+ / - 0.04343\n",
      "F =   6.4196e+03 + / -   6.4196e+02 mJy (1)  Log[F] =  3.80534+ / - 0.04343\n",
      "F =   9.1655e+03 + / -   9.1655e+02 mJy (1)  Log[F] =  3.95999+ / - 0.04343\n",
      "F =   1.1280e+04 + / -   1.1280e+03 mJy (1)  Log[F] =  4.05014+ / - 0.04343\n",
      "F =   1.1925e+04 + / -   1.1925e+03 mJy (1)  Log[F] =  4.07428+ / - 0.04343\n",
      "F =   1.2810e+04 + / -   1.2810e+03 mJy (0)  Log[F] =  0.00000+ / - 0.00000\n",
      "F =   1.2416e+04 + / -   1.2416e+03 mJy (1)  Log[F] =  4.09180+ / - 0.04343\n",
      "F =   0.0000e+00 + / -   0.0000e+00 mJy (0)  Log[F] =  0.00000+ / - 0.00000\n",
      "F =   3.1704e+04 + / -   9.6246e+00 mJy (3)  Log[F] =  4.50111+ / - 9.62464\n",
      "F =   2.7911e+03 + / -   9.6246e+00 mJy (3)  Log[F] =  3.44578+ / - 9.62464\n",
      "\n",
      "[8.24098969]\n",
      "[-1.36696612]\n",
      "[0]\n",
      "['Ly_break']\n"
     ]
    }
   ],
   "source": [
    "# Lets check out what's in info - This is what we want to save for imputation\n",
    "print(info.chi2)\n",
    "print(info.model_fluxes) # Use to fill in all values labeled 3 (upper limit)\n",
    "print(info.source)\n",
    "print(info.av)\n",
    "print(info.sc)\n",
    "print(info.model_id)\n",
    "print(info.model_name)"
   ]
  },
  {
   "cell_type": "code",
   "execution_count": 24,
   "metadata": {},
   "outputs": [
    {
     "data": {
      "image/png": "[encoded data removed]",
      "text/plain": [
       "<Figure size 640x480 with 1 Axes>"
      ]
     },
     "metadata": {},
     "output_type": "display_data"
    }
   ],
   "source": [
    "#from astropy.visualization import quantity_support\n",
    "#quantity_support()\n",
    "filterpeaks = [x.value for x in filterpeaks] * u.um\n",
    "modelflux = 10**(info.model_fluxes) * u.mJy\n",
    "modelfluxdens = modelflux.to(u.erg / u.cm**2 / u.s, equivalencies = u.spectral_density(filterpeaks))\n",
    "sourceflux = np.array(info.source.to_ascii().split()[25:-1:2]).astype(float)\n",
    "sourceflux = sourceflux * u.mJy\n",
    "sourcefluxdens = sourceflux.to(u.erg / u.cm**2 / u.s, equivalencies = u.spectral_density(filterpeaks))\n",
    "plt.scatter(filterpeaks, sourcefluxdens)\n",
    "plt.scatter(filterpeaks,modelfluxdens,color='r')\n",
    "plt.xscale('log')\n",
    "plt.yscale('log')"
   ]
  },
  {
   "cell_type": "code",
   "execution_count": 50,
   "metadata": {},
   "outputs": [],
   "source": [
    "# Save info for plotting methods MAKE SURE TO CLOSE FILE I/O\n",
    "output = '../data/outputs/output_ngc2264_Ly_break2.fitinfo'\n",
    "fout = FitInfoFile(output,'w')\n",
    "#info = info.keep(output_format)\n",
    "fout.write(info)\n",
    "fout.close()"
   ]
  },
  {
   "cell_type": "code",
   "execution_count": null,
   "metadata": {},
   "outputs": [],
   "source": [
    "linecol = sedfitter.plot('output_ngc2264_b-s.fitinfo',\n",
    "               plot_mode='A',\n",
    "               select_format=('N', 1),\n",
    "               show_convolved=False, show_sed=True,\n",
    "               x_mode='M', x_range=(0.1, 2000),\n",
    "               y_mode='M', y_range=(1.e-14, 2e-8))\n"
   ]
  },
  {
   "cell_type": "code",
   "execution_count": null,
   "metadata": {},
   "outputs": [],
   "source": [
    "from matplotlib.collections import LineCollection\n",
    "import matplotlib.pyplot as plt\n",
    "\n",
    "original_linecol = linecol['20']['lines']\n",
    "segments = original_linecol.get_segments()\n",
    "colors = original_linecol.get_colors()\n",
    "linestyles = original_linecol.get_linestyles()\n",
    "linewidths = original_linecol.get_linewidths()\n",
    "\n",
    "new_linecol = LineCollection(segments, colors=colors, linestyles=linestyles, linewidths=linewidths)\n",
    "\n",
    "fig, ax = plt.subplots(figsize = (4,3))\n",
    "ax.set_xscale(\"log\")\n",
    "ax.set_yscale(\"log\")\n",
    "ax.set_xlim(0.1,1500)\n",
    "ax.set_ylim(10**-14,10**-8)\n",
    "\n",
    "ax.add_collection(new_linecol)\n",
    "\n",
    "sedfitter.plot_source_data(ax, linecol['20']['source'], linecol['20']['filters'])\n",
    "plt.show()"
   ]
  },
  {
   "cell_type": "code",
   "execution_count": 51,
   "metadata": {},
   "outputs": [
    {
     "name": "stdout",
     "output_type": "stream",
     "text": [
      "\n"
     ]
    }
   ],
   "source": [
    "sedfitter.plot('../data/outputs/output_ngc2264_Ly_break2.fitinfo',\n",
    "                   output_dir='../data/outputs/galaxytest5', format='png',\n",
    "                   plot_mode='A',\n",
    "                   select_format=('F', 3.),\n",
    "                   show_convolved=False, show_sed=True,\n",
    "                   x_mode='M', x_range=(0.1, 2000),\n",
    "                   y_mode='M', y_range=(1.e-14, 2e-8))"
   ]
  }
 ],
 "metadata": {
  "kernelspec": {
   "display_name": "base",
   "language": "python",
   "name": "python3"
  },
  "language_info": {
   "codemirror_mode": {
    "name": "ipython",
    "version": 3
   },
   "file_extension": ".py",
   "mimetype": "text/x-python",
   "name": "python",
   "nbconvert_exporter": "python",
   "pygments_lexer": "ipython3",
   "version": "3.11.7"
  }
 },
 "nbformat": 4,
 "nbformat_minor": 2
}
